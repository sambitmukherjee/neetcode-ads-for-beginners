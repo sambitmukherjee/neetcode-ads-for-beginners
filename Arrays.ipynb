{
  "nbformat": 4,
  "nbformat_minor": 0,
  "metadata": {
    "colab": {
      "provenance": [],
      "toc_visible": true,
      "authorship_tag": "ABX9TyNR8MQPZywoh2ZuX5kIG2mC"
    },
    "kernelspec": {
      "name": "python3",
      "display_name": "Python 3"
    },
    "language_info": {
      "name": "python"
    }
  },
  "cells": [
    {
      "cell_type": "markdown",
      "source": [
        "# Arrays"
      ],
      "metadata": {
        "id": "u-1kbjU74GRI"
      }
    },
    {
      "cell_type": "markdown",
      "source": [
        "## RAM"
      ],
      "metadata": {
        "id": "O4Gjjwds4ISn"
      }
    },
    {
      "cell_type": "markdown",
      "source": [
        "A data structure is a way of structuring data.\n",
        "\n",
        "We're going to be structuring data inside of RAM. RAM is where all of our variables are stored.\n",
        "\n",
        "The \"giga\" in \"gigabytes\" means approximately $10^9$ - a billion. (\"Mega\" means approximately $10^6$ - a million; \"kilo\" means approximately $10^3$ - a thousand.)\n",
        "\n",
        "**Note:** Actually, to be precise, a \"kilobyte\" is $2^{10}$ (1024 bytes); a \"megabyte\" is $1024 * 1024 = 2^{20}$ bytes (1024 kilobytes); a \"gigabyte\" is $1024 * 1024 * 1024 = 2^{30}$ bytes (1024 megabytes).\n",
        "\n",
        "A byte is 8 bits.\n",
        "\n",
        "A bit can be thought of as a *position* that can store a digit, but the restriction on the digit is that it can either be a 0 or a 1.\n",
        "\n",
        "Integers, floating point numbers, characters, booleans, etc. are stored in RAM as bytes. It's pretty common for integers to be represented as 4 bytes (32 bits).\n",
        "\n",
        "**Note:** In PyTorch, full precision floats are **typically** represented as 4 bytes (32 bits), whereas ints are **typically** represented as 8 bytes (64 bits). The 8 byte integer data type is called a *'long'*. Floats can also be represented in half precision - 2 bytes (16 bits) or in double precision - 8 bytes (64 bits). The 8 byte floating point data type is called a *'double'*.\n",
        "\n",
        "Once we represent each int as 4 bytes (say), we're allowed to put it into RAM.\n",
        "\n",
        "RAM can be thought of as a **contiguous** block of data. It has two components: values and addresses. The distinct location at which each value (int) is stored in RAM is its *'address'*. The **unit** of address is bytes, e.g., `$0`, `$4`, `$8`, etc. This means that the first int is stored at location 0, the second int at location 4, the third int at location 8, etc. See diagram in video.\n",
        "\n",
        "When we store an array in RAM, we don't get to choose what location it's going to be at. But what's certain is that arrays are **always** contiguous. This is the unique thing about arrays - in memory, they look the exact same as the way we use them.\n",
        "\n",
        "A character takes only one byte to store in memory. At least, that's the typical case with ASCII characters. We can store values contiguously regardless of how big or small they are, as long as we increment the address by the size of the value."
      ],
      "metadata": {
        "id": "OhkOYJa2KbgZ"
      }
    },
    {
      "cell_type": "markdown",
      "source": [
        "## Static Arrays"
      ],
      "metadata": {
        "id": "JHdkiSB7ypUD"
      }
    },
    {
      "cell_type": "markdown",
      "source": [
        "With any data structure, the two most common operations are (i) reading the data and (ii) writing to the data.\n",
        "\n",
        "To read the (say) first element of an array, the intuitive thing is to go into RAM at the address of the first element and then read the value. That's exactly what's happening under the hood, but we as programmers don't need to know the exact addresses. Instead, we use indexes to access values. When we do so, the programming language automatically goes into the address of the first element, and reads the value. In other words, the programming language can automatically map ANY index in our array to its address in memory.\n",
        "\n",
        "We don't get to decide exactly where to store our array (or any variable for that matter) in RAM.\n",
        "\n",
        "Static arrays are fixed size arrays. When we delete an element from a static array, we don't actually de-allocate the memory associated with that element; instead, the value is overwritten by a default value such as `0`, `-1` or `None`.\n",
        "\n",
        "Reading from an arbitrary position, writing to an arbitrary position (i.e., overwriting the current value), inserting at the end and deleting from the end are the efficient operations with a static array; each of these has a time complexity of $O(1)$.\n",
        "\n",
        "**Length vs. size of a static array:** Length is the number of elements, whereas size is the allocated size. Inserting an element at an arbitrary location is an $O(n)$ operation, where $n$ is the length of the array. The same is true for deleting from an arbitrary position.\n",
        "\n",
        "**Note:** In big $O$ notation, $n$ is always the worst case. (Since we don't want to go through every possible scenario, we generalize it to be the worst case.)"
      ],
      "metadata": {
        "id": "-7eJEz3TMqlg"
      }
    },
    {
      "cell_type": "code",
      "source": [
        "my_array = [1, 3, 5]"
      ],
      "metadata": {
        "id": "MVstvGHTviFU"
      },
      "execution_count": null,
      "outputs": []
    },
    {
      "cell_type": "markdown",
      "source": [
        "**Note:** Here, we're pretending that `my_array` is a static array."
      ],
      "metadata": {
        "id": "tx1dZ8WYu07t"
      }
    },
    {
      "cell_type": "code",
      "source": [
        "i = 1\n",
        "my_array[i]"
      ],
      "metadata": {
        "colab": {
          "base_uri": "https://localhost:8080/"
        },
        "id": "B-b5n6HXvnta",
        "outputId": "e07528e3-33eb-4d25-c865-9826f0ee5dba"
      },
      "execution_count": null,
      "outputs": [
        {
          "output_type": "execute_result",
          "data": {
            "text/plain": [
              "3"
            ]
          },
          "metadata": {},
          "execution_count": 2
        }
      ]
    },
    {
      "cell_type": "markdown",
      "source": [
        "This algorithm has a time complexity of $O(1)$."
      ],
      "metadata": {
        "id": "jFb0YdX7m6fm"
      }
    },
    {
      "cell_type": "code",
      "source": [
        "for i in range(len(my_array)):\n",
        "    print(my_array[i])"
      ],
      "metadata": {
        "colab": {
          "base_uri": "https://localhost:8080/"
        },
        "id": "cFRNm-_lvtul",
        "outputId": "efebffaa-a366-450e-9a31-4eb56d83f838"
      },
      "execution_count": null,
      "outputs": [
        {
          "output_type": "stream",
          "name": "stdout",
          "text": [
            "1\n",
            "3\n",
            "5\n"
          ]
        }
      ]
    },
    {
      "cell_type": "code",
      "source": [
        "i = 0\n",
        "while i < len(my_array):\n",
        "    print(my_array[i])\n",
        "    i += 1"
      ],
      "metadata": {
        "colab": {
          "base_uri": "https://localhost:8080/"
        },
        "id": "OtWbSstMv4S6",
        "outputId": "31dd55a0-5642-4202-ae9b-4366c34c9552"
      },
      "execution_count": null,
      "outputs": [
        {
          "output_type": "stream",
          "name": "stdout",
          "text": [
            "1\n",
            "3\n",
            "5\n"
          ]
        }
      ]
    },
    {
      "cell_type": "markdown",
      "source": [
        "This algorithm has a time complexity of $O(n)$."
      ],
      "metadata": {
        "id": "1wvajYU_nsKv"
      }
    },
    {
      "cell_type": "code",
      "source": [
        "def remove_end(arr, length):\n",
        "    if length > 0:\n",
        "        arr[length - 1] = None\n",
        "    # We will also consider the length to be decreased by 1."
      ],
      "metadata": {
        "id": "9gWDbhQtwAsN"
      },
      "execution_count": null,
      "outputs": []
    },
    {
      "cell_type": "markdown",
      "source": [
        "This algorithm has a time complexity of $O(1)$."
      ],
      "metadata": {
        "id": "-zm-WDZxqAZc"
      }
    },
    {
      "cell_type": "code",
      "source": [
        "length = 3 # The number of elements that aren't None."
      ],
      "metadata": {
        "id": "rekIiKW2wTRR"
      },
      "execution_count": null,
      "outputs": []
    },
    {
      "cell_type": "markdown",
      "source": [
        "**Note:** The length of a static array needs to be maintained separately."
      ],
      "metadata": {
        "id": "sivcvw6MzhAi"
      }
    },
    {
      "cell_type": "code",
      "source": [
        "remove_end(my_array, length)\n",
        "length -= 1\n",
        "print(my_array)\n",
        "print(length)"
      ],
      "metadata": {
        "colab": {
          "base_uri": "https://localhost:8080/"
        },
        "id": "CBSgU2XzwchN",
        "outputId": "f80668cf-c560-4475-b8c0-4bc8e45e5565"
      },
      "execution_count": null,
      "outputs": [
        {
          "output_type": "stream",
          "name": "stdout",
          "text": [
            "[1, 3, None]\n",
            "2\n"
          ]
        }
      ]
    },
    {
      "cell_type": "markdown",
      "source": [
        "**Note:** Since lists are mutable, only a pointer to `my_array` is passed as an argument to `remove_end`. Therefore, any modification to `my_array` inside the function occurs globally."
      ],
      "metadata": {
        "id": "6cMg5pJrpL3U"
      }
    },
    {
      "cell_type": "code",
      "source": [
        "# Again:\n",
        "remove_end(my_array, length)\n",
        "length -= 1\n",
        "print(my_array)\n",
        "print(length)"
      ],
      "metadata": {
        "colab": {
          "base_uri": "https://localhost:8080/"
        },
        "id": "e7-gcAOjwpNv",
        "outputId": "83dc4c87-63fa-4e29-d69a-83c60d6f45f3"
      },
      "execution_count": null,
      "outputs": [
        {
          "output_type": "stream",
          "name": "stdout",
          "text": [
            "[1, None, None]\n",
            "1\n"
          ]
        }
      ]
    },
    {
      "cell_type": "code",
      "source": [
        "def remove_middle(arr, i, length):\n",
        "    for index in range(i + 1, length):\n",
        "        arr[index - 1] = arr[index]\n",
        "    arr[length - 1] = None\n",
        "    # We will also consider the length to be decreased by 1."
      ],
      "metadata": {
        "id": "2qLrxwR3zIYh"
      },
      "execution_count": null,
      "outputs": []
    },
    {
      "cell_type": "markdown",
      "source": [
        "This algorithm has a time complexity of $O(n)$."
      ],
      "metadata": {
        "id": "uBTJHqgxsrBS"
      }
    },
    {
      "cell_type": "code",
      "source": [
        "my_array = [4, 5, 6]\n",
        "length = 3"
      ],
      "metadata": {
        "id": "Swy8PLyYzccz"
      },
      "execution_count": null,
      "outputs": []
    },
    {
      "cell_type": "code",
      "source": [
        "remove_middle(my_array, 0, length)\n",
        "length -= 1\n",
        "print(my_array)\n",
        "print(length)"
      ],
      "metadata": {
        "colab": {
          "base_uri": "https://localhost:8080/"
        },
        "id": "xa2n3e1GzsN8",
        "outputId": "b998c9ee-2290-4b24-db1a-b4f616988ef0"
      },
      "execution_count": null,
      "outputs": [
        {
          "output_type": "stream",
          "name": "stdout",
          "text": [
            "[5, 6, None]\n",
            "2\n"
          ]
        }
      ]
    },
    {
      "cell_type": "code",
      "source": [
        "# Again:\n",
        "remove_middle(my_array, 0, length)\n",
        "length -= 1\n",
        "print(my_array)\n",
        "print(length)"
      ],
      "metadata": {
        "colab": {
          "base_uri": "https://localhost:8080/"
        },
        "id": "imcceHIBzyhq",
        "outputId": "7d1929ae-9c38-4891-fa55-790fa8f651fe"
      },
      "execution_count": null,
      "outputs": [
        {
          "output_type": "stream",
          "name": "stdout",
          "text": [
            "[6, None, None]\n",
            "1\n"
          ]
        }
      ]
    },
    {
      "cell_type": "code",
      "source": [
        "def insert_end(arr, n, length, capacity):\n",
        "    if length < capacity:\n",
        "        arr[length] = n\n",
        "    # We will also consider the length to be increased by 1."
      ],
      "metadata": {
        "id": "yGeuB3RvohTY"
      },
      "execution_count": null,
      "outputs": []
    },
    {
      "cell_type": "markdown",
      "source": [
        "This algorithm has a time complexity of $O(1)$."
      ],
      "metadata": {
        "id": "57p1DLE509YT"
      }
    },
    {
      "cell_type": "code",
      "source": [
        "insert_end(my_array, 7, length, capacity=3)\n",
        "length += 1\n",
        "print(my_array)\n",
        "print(length)"
      ],
      "metadata": {
        "colab": {
          "base_uri": "https://localhost:8080/"
        },
        "id": "KO8vyjD3pFPD",
        "outputId": "3d017627-ab7e-402f-e4e6-7c4fadeac743"
      },
      "execution_count": null,
      "outputs": [
        {
          "output_type": "stream",
          "name": "stdout",
          "text": [
            "[6, 7, None]\n",
            "2\n"
          ]
        }
      ]
    },
    {
      "cell_type": "code",
      "source": [
        "my_array = [1, 5, 7, 9, None, None]\n",
        "length = 4"
      ],
      "metadata": {
        "id": "gBr7FK3RptqM"
      },
      "execution_count": null,
      "outputs": []
    },
    {
      "cell_type": "markdown",
      "source": [
        "Let's say that we want to insert `3` at index `1`."
      ],
      "metadata": {
        "id": "_9Nn8YNi3DbD"
      }
    },
    {
      "cell_type": "code",
      "source": [
        "def insert_middle(arr, i, n, length):\n",
        "    for index in range(length - 1, i - 1, -1):\n",
        "        arr[index + 1] = arr[index]\n",
        "    arr[i] = n\n",
        "    # We will also consider the length to be increased by 1."
      ],
      "metadata": {
        "id": "CAepJanBqHk4"
      },
      "execution_count": null,
      "outputs": []
    },
    {
      "cell_type": "markdown",
      "source": [
        "This algorithm has a time complexity of $O(n)$."
      ],
      "metadata": {
        "id": "lcBBJ7Q1FcI9"
      }
    },
    {
      "cell_type": "code",
      "source": [
        "insert_middle(my_array, 1, 3, length)\n",
        "length += 1\n",
        "print(my_array)\n",
        "print(length)"
      ],
      "metadata": {
        "colab": {
          "base_uri": "https://localhost:8080/"
        },
        "id": "wSs0metpqe_3",
        "outputId": "f54daa2d-4071-4f4e-9fae-0640171f567d"
      },
      "execution_count": null,
      "outputs": [
        {
          "output_type": "stream",
          "name": "stdout",
          "text": [
            "[1, 3, 5, 7, 9, None]\n",
            "5\n"
          ]
        }
      ]
    },
    {
      "cell_type": "code",
      "source": [
        "insert_middle(my_array, 3, 6, length)\n",
        "length += 1\n",
        "print(my_array)\n",
        "print(length)"
      ],
      "metadata": {
        "colab": {
          "base_uri": "https://localhost:8080/"
        },
        "id": "LGuWHpkBFQQn",
        "outputId": "fb670279-44bf-4593-9e13-8788318ccd70"
      },
      "execution_count": null,
      "outputs": [
        {
          "output_type": "stream",
          "name": "stdout",
          "text": [
            "[1, 3, 5, 6, 7, 9]\n",
            "6\n"
          ]
        }
      ]
    },
    {
      "cell_type": "markdown",
      "source": [
        "### Remove Duplicates From Sorted Array"
      ],
      "metadata": {
        "id": "gOwMMz1w_LWt"
      }
    },
    {
      "cell_type": "code",
      "source": [
        "def remove_middle(arr, i, length):\n",
        "    for index in range(i + 1, length):\n",
        "        arr[index - 1] = arr[index]\n",
        "    arr[length - 1] = None\n",
        "    return length - 1"
      ],
      "metadata": {
        "id": "0LLsQDWV9mQN"
      },
      "execution_count": null,
      "outputs": []
    },
    {
      "cell_type": "code",
      "source": [
        "def remove_duplicates(nums):\n",
        "    k = len(nums)\n",
        "    i = 0\n",
        "    while i < k - 1: # This will go upto the second last element in the array.\n",
        "        while nums[i] == nums[i + 1]:\n",
        "            # Remove next element.\n",
        "            k = remove_middle(nums, i + 1, k)\n",
        "        i += 1\n",
        "    return k"
      ],
      "metadata": {
        "id": "p8G_Yluj4yOr"
      },
      "execution_count": null,
      "outputs": []
    },
    {
      "cell_type": "code",
      "source": [
        "# Test:\n",
        "nums = [1, 1, 2]\n",
        "k = remove_duplicates(nums)\n",
        "print(nums)\n",
        "print(k)"
      ],
      "metadata": {
        "colab": {
          "base_uri": "https://localhost:8080/"
        },
        "id": "MqS4-Xp64yMI",
        "outputId": "ed8df5d5-f12d-4f73-f601-d579e3397cfe"
      },
      "execution_count": null,
      "outputs": [
        {
          "output_type": "stream",
          "name": "stdout",
          "text": [
            "[1, 2, None]\n",
            "2\n"
          ]
        }
      ]
    },
    {
      "cell_type": "code",
      "source": [
        "# Test:\n",
        "nums = [0, 0, 1, 1, 1, 2, 2, 3, 3, 4]\n",
        "k = remove_duplicates(nums)\n",
        "print(nums)\n",
        "print(k)"
      ],
      "metadata": {
        "colab": {
          "base_uri": "https://localhost:8080/"
        },
        "id": "_fOiTuM54yJh",
        "outputId": "9e9ac446-bad4-4c99-80d2-eef3d2df9e99"
      },
      "execution_count": null,
      "outputs": [
        {
          "output_type": "stream",
          "name": "stdout",
          "text": [
            "[0, 1, 2, 3, 4, None, None, None, None, None]\n",
            "5\n"
          ]
        }
      ]
    },
    {
      "cell_type": "markdown",
      "source": [
        "### Remove Element"
      ],
      "metadata": {
        "id": "Ty4w1xPXXecW"
      }
    },
    {
      "cell_type": "code",
      "source": [
        "def remove_middle(arr, i, length):\n",
        "    for index in range(i + 1, length):\n",
        "        arr[index - 1] = arr[index]\n",
        "    arr[length - 1] = None\n",
        "    return length - 1"
      ],
      "metadata": {
        "id": "PpM5ahWfBCFW"
      },
      "execution_count": null,
      "outputs": []
    },
    {
      "cell_type": "code",
      "source": [
        "def remove_element(nums, val):\n",
        "    k = len(nums)\n",
        "    i = 0\n",
        "    while i < k:\n",
        "        while nums[i] == val:\n",
        "            # Remove nums[i].\n",
        "            k = remove_middle(nums, i, k)\n",
        "        i += 1\n",
        "    return k"
      ],
      "metadata": {
        "id": "uMLO4_fNBCDB"
      },
      "execution_count": null,
      "outputs": []
    },
    {
      "cell_type": "code",
      "source": [
        "# Test:\n",
        "nums = [3, 2, 2, 3]\n",
        "val = 3\n",
        "k = remove_element(nums, val)\n",
        "print(nums)\n",
        "print(k)"
      ],
      "metadata": {
        "colab": {
          "base_uri": "https://localhost:8080/"
        },
        "id": "xk9dUvJkBCAd",
        "outputId": "7c99d1b4-db19-4255-a698-f7218ebcadd0"
      },
      "execution_count": null,
      "outputs": [
        {
          "output_type": "stream",
          "name": "stdout",
          "text": [
            "[2, 2, None, None]\n",
            "2\n"
          ]
        }
      ]
    },
    {
      "cell_type": "code",
      "source": [
        "# Test:\n",
        "nums = [0, 1, 2, 2, 3, 0, 4, 2]\n",
        "val = 2\n",
        "k = remove_element(nums, val)\n",
        "print(nums)\n",
        "print(k)"
      ],
      "metadata": {
        "colab": {
          "base_uri": "https://localhost:8080/"
        },
        "id": "kHDBxeOuBB93",
        "outputId": "21ca4762-e605-496f-8ce7-cad29dff37b0"
      },
      "execution_count": null,
      "outputs": [
        {
          "output_type": "stream",
          "name": "stdout",
          "text": [
            "[0, 1, 3, 0, 4, None, None, None]\n",
            "5\n"
          ]
        }
      ]
    },
    {
      "cell_type": "markdown",
      "source": [
        "## Dynamic Arrays"
      ],
      "metadata": {
        "id": "8XkftfPBGTDy"
      }
    },
    {
      "cell_type": "markdown",
      "source": [
        "Adding elements to the end of an array is called *'pushing'* to the array. In Python, it's done with the `append` method. As we shall see, pushing to a dynamic array has a time complexity of amortized $O(1)$.\n",
        "\n",
        "In the internal implementation of the dynamic array, a *'pointer'* is maintained containing the index of the last element of the array. (This pointer is also used to return the length of the dynamic array when the `len` function is called.)\n",
        "\n",
        "**Note:** The term *'pointer'* has two distinct meanings (depending on the context). For example, in the context of a linked list, it's a reference to another mutable object. However, in the context of an array, it's an index of an element. You will see the latter meaning being used in the context of the '*two pointers*' pattern.\n",
        "\n",
        "Removing elements from the end of the array is called *'popping'* from the array. In Python, it's done with the `pop` method. Popping from a dynamic array has a time complexity of $O(1)$. When we pop, the pointer maintaining the index of the last element of the array is shifted to the left by 1 position."
      ],
      "metadata": {
        "id": "WUKRUC1fqXml"
      }
    },
    {
      "cell_type": "code",
      "source": [
        "my_list = [6, 7, 8]\n",
        "el = my_list.pop()\n",
        "print(el)\n",
        "print(my_list)"
      ],
      "metadata": {
        "colab": {
          "base_uri": "https://localhost:8080/"
        },
        "id": "kiNSAqXrRFEp",
        "outputId": "c94bb525-676b-48fb-c181-94b127bc89c5"
      },
      "execution_count": null,
      "outputs": [
        {
          "output_type": "stream",
          "name": "stdout",
          "text": [
            "8\n",
            "[6, 7]\n"
          ]
        }
      ]
    },
    {
      "cell_type": "markdown",
      "source": [
        "**Definition:** Amortized time complexity is the average time taken per operation over a sequence of operations.\n",
        "\n",
        "Let's think about the overall time complexity when a dynamic array runs out of space, and all the elements need to copied over to an array double the original size. Let the original size be $n$. Allocating memory for an array of size $2n$ has a time complexity of $O(2n)$. Additionally, copying all the elements from the original array to the new array is another operation with time complexity $O(n)$. Finally, appending the new element is an $O(1)$ operation. So the overall time complexity of the operation is $O(3n + 1)$ = $O(n)$ (since we can ignore constants). However, since an array running out of space is an infrequent event, we say that the time complexity of appending a single element to a dynamic array is amortized $O(1)$, i.e., $O(1)$ on average. (There is a formal mathematical proof of this which relies on the power series.) Informally, the reason is the following. We don't have to resize the array every time we insert an element; we only have to do it when the array runs out of space. When that happens, the time complexity of the operation is $O(3n + 1)$ = $O(n)$ for an array of original size $n$. This is $O(1)$ on average.\n",
        "\n",
        "Why double the capacity when the array runs out of space? This is a middle ground between (a) having to resize the array & copy over all the elements every time (which is an expensive operation in terms of time) and (b) allocating an excessive amount of empty space (which is costly in terms of memory)."
      ],
      "metadata": {
        "id": "ghzK8toxL6BH"
      }
    },
    {
      "cell_type": "markdown",
      "source": [
        "### Concatenation of Array"
      ],
      "metadata": {
        "id": "f6OYoQ-EmMQF"
      }
    },
    {
      "cell_type": "code",
      "source": [
        "def get_concatenation(nums):\n",
        "    ans = []\n",
        "    for i in range(2):\n",
        "        for num in nums:\n",
        "            ans.append(num)\n",
        "    return ans"
      ],
      "metadata": {
        "id": "cvxc_ITZK4JJ"
      },
      "execution_count": null,
      "outputs": []
    },
    {
      "cell_type": "code",
      "source": [
        "# Test:\n",
        "nums = [1, 2, 1]\n",
        "ans = get_concatenation(nums)\n",
        "print(ans)"
      ],
      "metadata": {
        "colab": {
          "base_uri": "https://localhost:8080/"
        },
        "id": "z2t3AzOlnXlC",
        "outputId": "ed47a82e-133c-4f1d-c0a5-be59df1b6651"
      },
      "execution_count": null,
      "outputs": [
        {
          "output_type": "stream",
          "name": "stdout",
          "text": [
            "[1, 2, 1, 1, 2, 1]\n"
          ]
        }
      ]
    },
    {
      "cell_type": "code",
      "source": [
        "# Test:\n",
        "nums = [1, 3, 2, 1]\n",
        "ans = get_concatenation(nums)\n",
        "print(ans)"
      ],
      "metadata": {
        "colab": {
          "base_uri": "https://localhost:8080/"
        },
        "id": "h7LJsXbvoQbu",
        "outputId": "84c2bcec-b0ec-40d6-8fec-addac6522735"
      },
      "execution_count": null,
      "outputs": [
        {
          "output_type": "stream",
          "name": "stdout",
          "text": [
            "[1, 3, 2, 1, 1, 3, 2, 1]\n"
          ]
        }
      ]
    },
    {
      "cell_type": "markdown",
      "source": [
        "## Stacks"
      ],
      "metadata": {
        "id": "Lrw7GuTwpkFA"
      }
    },
    {
      "cell_type": "markdown",
      "source": [
        "A stack supports three operations: push, pop and peek. All three are efficient operations with a time complexity of $O(1)$ / amoritized $O(1)$.\n",
        "\n",
        "Stacks can be implemented with dynamic arrays. It's a LIFO data structure.\n",
        "\n",
        "One application of a stack is to reverse a sequence, e.g., reversing `['a', 'b', 'c']` to get `['c', 'b', 'a']`. However, there are other ways of doing the same thing.\n",
        "\n",
        "There are a lot of other use cases for stacks that can get a lot more complex.\n",
        "\n",
        "The *top* pointer of a stack is the index of the last item. It is equal to `len(stack) - 1`.\n",
        "\n",
        "It is a good measure to check if the stack is empty to avoid errors."
      ],
      "metadata": {
        "id": "quvLnRoxBR-B"
      }
    },
    {
      "cell_type": "code",
      "source": [
        "stack = []\n",
        "try:\n",
        "    el = stack.pop()\n",
        "    print(el)\n",
        "except IndexError as er:\n",
        "    print(er)"
      ],
      "metadata": {
        "colab": {
          "base_uri": "https://localhost:8080/"
        },
        "id": "GLZ1GfquX2as",
        "outputId": "9b39673f-8f2e-49ad-8f8b-c6031ab85d2a"
      },
      "execution_count": null,
      "outputs": [
        {
          "output_type": "stream",
          "name": "stdout",
          "text": [
            "pop from empty list\n"
          ]
        }
      ]
    },
    {
      "cell_type": "markdown",
      "source": [
        "### Valid Parentheses"
      ],
      "metadata": {
        "id": "zJVW9m68m2mo"
      }
    },
    {
      "cell_type": "code",
      "source": [
        "open_stack = []\n",
        "if open_stack:\n",
        "    print(\"Yay!\")\n",
        "if not open_stack:\n",
        "    print(\"Nay!\")"
      ],
      "metadata": {
        "colab": {
          "base_uri": "https://localhost:8080/"
        },
        "id": "aDKfyqqI9qa5",
        "outputId": "09de8eaf-b44d-4bb4-f67a-a34ffb10c58e"
      },
      "execution_count": null,
      "outputs": [
        {
          "output_type": "stream",
          "name": "stdout",
          "text": [
            "Nay!\n"
          ]
        }
      ]
    },
    {
      "cell_type": "markdown",
      "source": [
        "An empty list behaves like a `False` within an `if` condition."
      ],
      "metadata": {
        "id": "8sNkqr449_R5"
      }
    },
    {
      "cell_type": "code",
      "source": [
        "def is_valid(s):\n",
        "    open_stack = []\n",
        "    close_to_open = {')': '(', '}': '{', ']': '['}\n",
        "    for c in s:\n",
        "        if c in close_to_open:\n",
        "            if open_stack: # Not empty.\n",
        "                if open_stack[-1] != close_to_open[c]:\n",
        "                    return False\n",
        "                else:\n",
        "                    open_stack.pop()\n",
        "            else:\n",
        "                return False\n",
        "        else:\n",
        "            open_stack.append(c)\n",
        "    return True if not open_stack else False # Return True if empty."
      ],
      "metadata": {
        "id": "Vj3nJMoQWOyT"
      },
      "execution_count": null,
      "outputs": []
    },
    {
      "cell_type": "code",
      "source": [
        "# Test:\n",
        "s = \"([{}])\"\n",
        "is_valid(s)"
      ],
      "metadata": {
        "colab": {
          "base_uri": "https://localhost:8080/"
        },
        "id": "eLleQ368ASeq",
        "outputId": "08510597-713c-4e35-e635-eb4d47c5b386"
      },
      "execution_count": null,
      "outputs": [
        {
          "output_type": "execute_result",
          "data": {
            "text/plain": [
              "True"
            ]
          },
          "metadata": {},
          "execution_count": 4
        }
      ]
    },
    {
      "cell_type": "code",
      "source": [
        "# Test:\n",
        "s = \"()[]{}\"\n",
        "is_valid(s)"
      ],
      "metadata": {
        "colab": {
          "base_uri": "https://localhost:8080/"
        },
        "id": "TD-x2EcbAZ1f",
        "outputId": "dca9ba11-1fe2-4f05-cb43-61f4c145ffc3"
      },
      "execution_count": null,
      "outputs": [
        {
          "output_type": "execute_result",
          "data": {
            "text/plain": [
              "True"
            ]
          },
          "metadata": {},
          "execution_count": 5
        }
      ]
    },
    {
      "cell_type": "code",
      "source": [
        "# Test:\n",
        "s = \"[(])\"\n",
        "is_valid(s)"
      ],
      "metadata": {
        "colab": {
          "base_uri": "https://localhost:8080/"
        },
        "id": "cSGDiU5gAfLg",
        "outputId": "59ef41e0-5899-436f-8488-4448e4ed88fc"
      },
      "execution_count": null,
      "outputs": [
        {
          "output_type": "execute_result",
          "data": {
            "text/plain": [
              "False"
            ]
          },
          "metadata": {},
          "execution_count": 6
        }
      ]
    },
    {
      "cell_type": "markdown",
      "source": [
        "### Min Stack"
      ],
      "metadata": {
        "id": "cpNlY8uhB9zR"
      }
    },
    {
      "cell_type": "code",
      "source": [
        "float('-inf')"
      ],
      "metadata": {
        "colab": {
          "base_uri": "https://localhost:8080/"
        },
        "id": "UqtkdHO_AlJX",
        "outputId": "751e032c-d192-4788-844c-d0865629da77"
      },
      "execution_count": null,
      "outputs": [
        {
          "output_type": "execute_result",
          "data": {
            "text/plain": [
              "-inf"
            ]
          },
          "metadata": {},
          "execution_count": 7
        }
      ]
    },
    {
      "cell_type": "code",
      "source": [
        "class MinStack:\n",
        "    def __init__(self):\n",
        "        self.stack = []\n",
        "        self.min_idxs = []\n",
        "\n",
        "    def push(self, val):\n",
        "        self.stack.append(val)\n",
        "        if not self.min_idxs: # Empty.\n",
        "            self.min_idxs.append(0)\n",
        "        else:\n",
        "            if val < self.stack[self.min_idxs[-1]]:\n",
        "                self.min_idxs.append(len(self.stack) - 1) # Append the top pointer.\n",
        "            else:\n",
        "                self.min_idxs.append(self.min_idxs[-1]) # Append the previous pointer.\n",
        "\n",
        "    def pop(self):\n",
        "        self.stack.pop()\n",
        "        self.min_idxs.pop()\n",
        "\n",
        "    def peek(self):\n",
        "        return self.stack[-1]\n",
        "\n",
        "    def get_min(self):\n",
        "        return self.stack[self.min_idxs[-1]]"
      ],
      "metadata": {
        "id": "x0HsMSkaCe8d"
      },
      "execution_count": null,
      "outputs": []
    },
    {
      "cell_type": "code",
      "source": [
        "min_stack = MinStack()\n",
        "min_stack.push(1)\n",
        "min_stack.push(2)\n",
        "min_stack.push(0)\n",
        "print(min_stack.get_min()) # Return 0.\n",
        "min_stack.pop()\n",
        "print(min_stack.peek())    # Return 2.\n",
        "print(min_stack.get_min()) # Return 1."
      ],
      "metadata": {
        "colab": {
          "base_uri": "https://localhost:8080/"
        },
        "id": "7nzuUI83IJr_",
        "outputId": "0ce09d65-5681-4a25-a0ae-d4a024a9e0df"
      },
      "execution_count": null,
      "outputs": [
        {
          "output_type": "stream",
          "name": "stdout",
          "text": [
            "0\n",
            "2\n",
            "1\n"
          ]
        }
      ]
    },
    {
      "cell_type": "code",
      "source": [],
      "metadata": {
        "id": "P_7JIQmRIYOo"
      },
      "execution_count": null,
      "outputs": []
    }
  ]
}