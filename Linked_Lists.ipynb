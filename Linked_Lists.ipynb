{
  "nbformat": 4,
  "nbformat_minor": 0,
  "metadata": {
    "colab": {
      "provenance": [],
      "toc_visible": true,
      "authorship_tag": "ABX9TyP53M4ioehxGc1uxb9oaTvd"
    },
    "kernelspec": {
      "name": "python3",
      "display_name": "Python 3"
    },
    "language_info": {
      "name": "python"
    }
  },
  "cells": [
    {
      "cell_type": "markdown",
      "source": [
        "# Linked Lists"
      ],
      "metadata": {
        "id": "n2vL4wUcWS2h"
      }
    },
    {
      "cell_type": "markdown",
      "source": [
        "## Singly Linked Lists"
      ],
      "metadata": {
        "id": "mabj8pErWU7m"
      }
    },
    {
      "cell_type": "code",
      "source": [
        "class ListNode:\n",
        "    def __init__(self, val):\n",
        "        self.val = val\n",
        "        self.next = None"
      ],
      "metadata": {
        "id": "TZpEtR8tvXxe"
      },
      "execution_count": 1,
      "outputs": []
    },
    {
      "cell_type": "code",
      "source": [
        "list_node1 = ListNode(\"red\")\n",
        "list_node2 = ListNode(\"green\")\n",
        "list_node3 = ListNode(\"blue\")\n",
        "list_node1.next = list_node2\n",
        "list_node2.next = list_node3"
      ],
      "metadata": {
        "id": "0tRBxJJXvhxC"
      },
      "execution_count": 2,
      "outputs": []
    },
    {
      "cell_type": "markdown",
      "source": [
        "We have a linked list."
      ],
      "metadata": {
        "id": "8gq5Z9Xyo1Uz"
      }
    },
    {
      "cell_type": "code",
      "source": [
        "head = list_node1\n",
        "tail = list_node3"
      ],
      "metadata": {
        "id": "J_em_HCiwb9X"
      },
      "execution_count": 3,
      "outputs": []
    },
    {
      "cell_type": "markdown",
      "source": [
        "**Note:** The `head` pointer of a linked list refers to the first node, while the `tail` pointer of a linked list refers to the last node. The `head` terminology is the opposite of *'head'* in the context of a neural net, which actually refers to the last few layers."
      ],
      "metadata": {
        "id": "PreKVfOeiFxa"
      }
    },
    {
      "cell_type": "code",
      "source": [
        "cur = head\n",
        "while cur: # Equivalent to `while cur is not None:`\n",
        "    print(cur.val)\n",
        "    cur = cur.next"
      ],
      "metadata": {
        "colab": {
          "base_uri": "https://localhost:8080/"
        },
        "id": "OiMDyFqbwx-c",
        "outputId": "96a0de56-958f-4b29-d7b4-38b3ac08bb68"
      },
      "execution_count": 4,
      "outputs": [
        {
          "output_type": "stream",
          "name": "stdout",
          "text": [
            "red\n",
            "green\n",
            "blue\n"
          ]
        }
      ]
    },
    {
      "cell_type": "markdown",
      "source": [
        "Appending a node (`\"purple\"`) to the end of the linked list:"
      ],
      "metadata": {
        "id": "Slh8fnaAT714"
      }
    },
    {
      "cell_type": "code",
      "source": [
        "list_node4 = ListNode(\"purple\")\n",
        "tail.next = list_node4\n",
        "tail = list_node4\n",
        "# Alt:\n",
        "# tail = tail.next\n",
        "\n",
        "cur = head\n",
        "while cur:\n",
        "    print(cur.val)\n",
        "    cur = cur.next"
      ],
      "metadata": {
        "colab": {
          "base_uri": "https://localhost:8080/"
        },
        "id": "GFSI_gDPxD2Z",
        "outputId": "fdd80768-f219-4ab6-8465-088122ad4b60"
      },
      "execution_count": 5,
      "outputs": [
        {
          "output_type": "stream",
          "name": "stdout",
          "text": [
            "red\n",
            "green\n",
            "blue\n",
            "purple\n"
          ]
        }
      ]
    },
    {
      "cell_type": "markdown",
      "source": [
        "**Note:** This is why maintaining a pointer to the last node of the linked list is useful."
      ],
      "metadata": {
        "id": "qKmXz06RywIu"
      }
    },
    {
      "cell_type": "markdown",
      "source": [
        "**Exercise:** Insert a new node (`\"brown\"`) in the middle of a linked list (after `\"green\"`, i.e., at index `2`)."
      ],
      "metadata": {
        "id": "ZxKjX8hdyb6k"
      }
    },
    {
      "cell_type": "markdown",
      "source": [
        "To do this, we need a pointer to the previous node, i.e., `\"green\"`."
      ],
      "metadata": {
        "id": "nM9jGC2sS0vf"
      }
    },
    {
      "cell_type": "code",
      "source": [
        "list_node5 = ListNode(\"brown\")\n",
        "\n",
        "cur = head\n",
        "while cur.val != \"green\": # Search for \"green\".\n",
        "    cur = cur.next\n",
        "list_node5.next = cur.next\n",
        "cur.next = list_node5\n",
        "\n",
        "cur = head\n",
        "while cur:\n",
        "    print(cur.val)\n",
        "    cur = cur.next"
      ],
      "metadata": {
        "colab": {
          "base_uri": "https://localhost:8080/"
        },
        "id": "nO1lebQ3xfSN",
        "outputId": "f5fb3ec3-f832-4348-c800-7d96cb07592c"
      },
      "execution_count": 6,
      "outputs": [
        {
          "output_type": "stream",
          "name": "stdout",
          "text": [
            "red\n",
            "green\n",
            "brown\n",
            "blue\n",
            "purple\n"
          ]
        }
      ]
    },
    {
      "cell_type": "markdown",
      "source": [
        "**Exercise:** Delete the `\"brown\"` node."
      ],
      "metadata": {
        "id": "A-X8SeRZ_fEz"
      }
    },
    {
      "cell_type": "markdown",
      "source": [
        "To do this, we need a pointer to the previous node."
      ],
      "metadata": {
        "id": "XW5GIfBH_nzT"
      }
    },
    {
      "cell_type": "code",
      "source": [
        "cur = head\n",
        "while cur.next.val != \"brown\": # Search for the node whose next node is \"brown\".\n",
        "    cur = cur.next\n",
        "cur.next = cur.next.next\n",
        "\n",
        "cur = head\n",
        "while cur:\n",
        "    print(cur.val)\n",
        "    cur = cur.next"
      ],
      "metadata": {
        "colab": {
          "base_uri": "https://localhost:8080/"
        },
        "id": "LRkRRl1rykj6",
        "outputId": "b1a73b85-ffad-4478-8226-e3670d169bb8"
      },
      "execution_count": 7,
      "outputs": [
        {
          "output_type": "stream",
          "name": "stdout",
          "text": [
            "red\n",
            "green\n",
            "blue\n",
            "purple\n"
          ]
        }
      ]
    },
    {
      "cell_type": "markdown",
      "source": [
        "**Note:** In the context of linked lists, *'access'* means accessing a list node at a particular index. On the other hand, *'search'* means traversing the linked list till we find a particular value we're looking for. Both operations have a time complexity of $O(n)$."
      ],
      "metadata": {
        "id": "qfXgLmuEz8Hn"
      }
    },
    {
      "cell_type": "markdown",
      "source": [
        "### Design Singly Linked List"
      ],
      "metadata": {
        "id": "T10wwADa9oWY"
      }
    },
    {
      "cell_type": "code",
      "source": [
        "class ListNode:\n",
        "    def __init__(self, val):\n",
        "        self.val = val\n",
        "        self.next = None\n",
        "\n",
        "class LinkedList:\n",
        "    def __init__(self):\n",
        "        self.head = ListNode(-1) # Dummy node.\n",
        "        self.tail = self.head\n",
        "\n",
        "    def get(self, index):\n",
        "        cur = self.head.next\n",
        "        i = 0\n",
        "        while cur is not None:\n",
        "            if i == index:\n",
        "                return cur.val\n",
        "            cur = cur.next\n",
        "            i += 1\n",
        "        return -1\n",
        "\n",
        "    def insert_head(self, val):\n",
        "        new_node = ListNode(val)\n",
        "        new_node.next = self.head.next\n",
        "        self.head.next = new_node\n",
        "        if new_node.next is None: # The linked list was empty before inserting the head.\n",
        "            self.tail = new_node\n",
        "\n",
        "    def insert_tail(self, val):\n",
        "        new_node = ListNode(val)\n",
        "        self.tail.next = new_node\n",
        "        self.tail = new_node\n",
        "\n",
        "    def remove(self, index):\n",
        "        i = 0\n",
        "        cur = self.head\n",
        "        # Move curr to node before target node:\n",
        "        while i < index and cur is not None:\n",
        "            i += 1\n",
        "            cur = cur.next\n",
        "        if cur is not None and cur.next is not None:\n",
        "            if cur.next == self.tail: # The target node is the tail.\n",
        "                self.tail = cur\n",
        "            cur.next = cur.next.next\n",
        "            return True\n",
        "        return False\n",
        "\n",
        "    def get_values(self):\n",
        "        vals = []\n",
        "        cur = self.head.next\n",
        "        while cur is not None:\n",
        "            vals.append(cur.val)\n",
        "            cur = cur.next\n",
        "        return vals"
      ],
      "metadata": {
        "id": "kY4mkXTZoCWX"
      },
      "execution_count": 8,
      "outputs": []
    },
    {
      "cell_type": "code",
      "source": [
        "# Test:\n",
        "ll = LinkedList()\n",
        "ll.get_values()"
      ],
      "metadata": {
        "colab": {
          "base_uri": "https://localhost:8080/"
        },
        "id": "TpggA9YNPodV",
        "outputId": "e5688b61-eb5a-4b17-d459-f3b4dc03110f"
      },
      "execution_count": 9,
      "outputs": [
        {
          "output_type": "execute_result",
          "data": {
            "text/plain": [
              "[]"
            ]
          },
          "metadata": {},
          "execution_count": 9
        }
      ]
    },
    {
      "cell_type": "code",
      "source": [
        "# Test:\n",
        "ll.insert_head(1)\n",
        "ll.get_values()"
      ],
      "metadata": {
        "colab": {
          "base_uri": "https://localhost:8080/"
        },
        "id": "_9ZCxjCeP0Ba",
        "outputId": "cbf990dc-e76b-4a9c-c1dc-e74d40606737"
      },
      "execution_count": 10,
      "outputs": [
        {
          "output_type": "execute_result",
          "data": {
            "text/plain": [
              "[1]"
            ]
          },
          "metadata": {},
          "execution_count": 10
        }
      ]
    },
    {
      "cell_type": "code",
      "source": [
        "# Test:\n",
        "ll.insert_tail(2)\n",
        "ll.get_values()"
      ],
      "metadata": {
        "colab": {
          "base_uri": "https://localhost:8080/"
        },
        "id": "14ozeKZ2P56l",
        "outputId": "aab648cf-358c-4121-b80c-c56d11732192"
      },
      "execution_count": 11,
      "outputs": [
        {
          "output_type": "execute_result",
          "data": {
            "text/plain": [
              "[1, 2]"
            ]
          },
          "metadata": {},
          "execution_count": 11
        }
      ]
    },
    {
      "cell_type": "code",
      "source": [
        "# Test:\n",
        "ll.insert_head(0)\n",
        "ll.get_values()"
      ],
      "metadata": {
        "colab": {
          "base_uri": "https://localhost:8080/"
        },
        "id": "Bjhxw71YP-jB",
        "outputId": "0ebab9f9-e3bf-4526-ab8c-20c83544ce1c"
      },
      "execution_count": 12,
      "outputs": [
        {
          "output_type": "execute_result",
          "data": {
            "text/plain": [
              "[0, 1, 2]"
            ]
          },
          "metadata": {},
          "execution_count": 12
        }
      ]
    },
    {
      "cell_type": "code",
      "source": [
        "# Test:\n",
        "ll.remove(1)\n",
        "ll.get_values()"
      ],
      "metadata": {
        "colab": {
          "base_uri": "https://localhost:8080/"
        },
        "id": "eAy5YejFQD_y",
        "outputId": "3aaf60b7-1329-4129-daea-088f11e4ff8d"
      },
      "execution_count": 13,
      "outputs": [
        {
          "output_type": "execute_result",
          "data": {
            "text/plain": [
              "[0, 2]"
            ]
          },
          "metadata": {},
          "execution_count": 13
        }
      ]
    },
    {
      "cell_type": "markdown",
      "source": [
        "### Reverse a Linked List"
      ],
      "metadata": {
        "id": "_H8UHMvQ4klx"
      }
    },
    {
      "cell_type": "code",
      "source": [
        "class ListNode:\n",
        "    def __init__(self, val):\n",
        "        self.val = val\n",
        "        self.next = None"
      ],
      "metadata": {
        "id": "jKX6saYimcXP"
      },
      "execution_count": 14,
      "outputs": []
    },
    {
      "cell_type": "code",
      "source": [
        "def reverse_list(head):\n",
        "    stack = []\n",
        "    cur = head\n",
        "    while cur:\n",
        "        stack.append(cur)\n",
        "        cur = cur.next\n",
        "\n",
        "    head = stack.pop()\n",
        "    cur = head\n",
        "    while stack:\n",
        "        cur.next = stack.pop()\n",
        "        cur = cur.next\n",
        "    cur.next = None\n",
        "    return head"
      ],
      "metadata": {
        "id": "fLi5IuxL773F"
      },
      "execution_count": 15,
      "outputs": []
    },
    {
      "cell_type": "markdown",
      "source": [
        "This algorithm has a time complexity of $O(n)$ and a space complexity of $O(n)$."
      ],
      "metadata": {
        "id": "_8EgOt7LBqmP"
      }
    },
    {
      "cell_type": "code",
      "source": [
        "# Test:\n",
        "node0 = ListNode(0)\n",
        "node1 = ListNode(1)\n",
        "node2 = ListNode(2)\n",
        "node3 = ListNode(3)\n",
        "node0.next = node1\n",
        "node1.next = node2\n",
        "node2.next = node3\n",
        "head = node0\n",
        "\n",
        "head = reverse_list(head)\n",
        "cur = head\n",
        "while cur:\n",
        "    print(cur.val)\n",
        "    cur = cur.next"
      ],
      "metadata": {
        "id": "M0Hl2VMx4mDb",
        "colab": {
          "base_uri": "https://localhost:8080/"
        },
        "outputId": "368ec4e8-8011-4fdc-fdd7-3c8348a25545"
      },
      "execution_count": 16,
      "outputs": [
        {
          "output_type": "stream",
          "name": "stdout",
          "text": [
            "3\n",
            "2\n",
            "1\n",
            "0\n"
          ]
        }
      ]
    },
    {
      "cell_type": "markdown",
      "source": [
        "Alt solution (using two pointers):"
      ],
      "metadata": {
        "id": "NfEi6Ue7YJ8L"
      }
    },
    {
      "cell_type": "code",
      "source": [
        "def reverse_list(head):\n",
        "    prev, cur = None, head\n",
        "    while cur:\n",
        "        nxt = cur.next\n",
        "        cur.next = prev\n",
        "        prev = cur\n",
        "        cur = nxt\n",
        "    return prev"
      ],
      "metadata": {
        "id": "4OkC2Tvoarun"
      },
      "execution_count": 17,
      "outputs": []
    },
    {
      "cell_type": "markdown",
      "source": [
        "This algorithm has a time complexity of $O(n)$ and a space complexity of $O(1)$."
      ],
      "metadata": {
        "id": "k2zGerrkbZcv"
      }
    },
    {
      "cell_type": "code",
      "source": [
        "# Test:\n",
        "node0 = ListNode(0)\n",
        "node1 = ListNode(1)\n",
        "node2 = ListNode(2)\n",
        "node3 = ListNode(3)\n",
        "node0.next = node1\n",
        "node1.next = node2\n",
        "node2.next = node3\n",
        "head = node0\n",
        "\n",
        "head = reverse_list(head)\n",
        "cur = head\n",
        "while cur:\n",
        "    print(cur.val)\n",
        "    cur = cur.next"
      ],
      "metadata": {
        "id": "ZQ-Ru9YCYNWQ",
        "colab": {
          "base_uri": "https://localhost:8080/"
        },
        "outputId": "1bbf4bed-2696-4ad2-c82e-dd3c6af560af"
      },
      "execution_count": 18,
      "outputs": [
        {
          "output_type": "stream",
          "name": "stdout",
          "text": [
            "3\n",
            "2\n",
            "1\n",
            "0\n"
          ]
        }
      ]
    },
    {
      "cell_type": "markdown",
      "source": [
        "### Merge Two Sorted Linked Lists"
      ],
      "metadata": {
        "id": "sN3OCa5pjr6X"
      }
    },
    {
      "cell_type": "code",
      "source": [
        "class ListNode:\n",
        "    def __init__(self, val):\n",
        "        self.val = val\n",
        "        self.next = None"
      ],
      "metadata": {
        "id": "mZIWwS1Ejtb0"
      },
      "execution_count": 19,
      "outputs": []
    },
    {
      "cell_type": "code",
      "source": [
        "def merge_two_lists(head1, head2):\n",
        "    dummy = ListNode(-1)\n",
        "    cur1 = head1\n",
        "    cur2 = head2\n",
        "    cur = dummy\n",
        "    while cur1 and cur2:\n",
        "        if cur1.val <= cur2.val:\n",
        "            cur.next = cur1\n",
        "            cur1 = cur1.next\n",
        "        else:\n",
        "            cur.next = cur2\n",
        "            cur2 = cur2.next\n",
        "        cur = cur.next\n",
        "    if cur1:\n",
        "        cur.next = cur1\n",
        "    if cur2:\n",
        "        cur.next = cur2\n",
        "    return dummy.next"
      ],
      "metadata": {
        "id": "d-ZFk2Bej6pS"
      },
      "execution_count": 20,
      "outputs": []
    },
    {
      "cell_type": "code",
      "source": [
        "# Test:\n",
        "node1 = ListNode(1)\n",
        "node2 = ListNode(2)\n",
        "node3 = ListNode(4)\n",
        "node1.next = node2\n",
        "node2.next = node3\n",
        "head1 = node1\n",
        "\n",
        "node1 = ListNode(1)\n",
        "node2 = ListNode(3)\n",
        "node3 = ListNode(5)\n",
        "node1.next = node2\n",
        "node2.next = node3\n",
        "head2 = node1\n",
        "\n",
        "head = merge_two_lists(head1, head2)\n",
        "cur = head\n",
        "while cur:\n",
        "    print(cur.val)\n",
        "    cur = cur.next"
      ],
      "metadata": {
        "id": "Fyj1i62mjcYz",
        "colab": {
          "base_uri": "https://localhost:8080/"
        },
        "outputId": "fab11660-e706-4732-f8bf-2eaabf5e879e"
      },
      "execution_count": 21,
      "outputs": [
        {
          "output_type": "stream",
          "name": "stdout",
          "text": [
            "1\n",
            "1\n",
            "2\n",
            "3\n",
            "4\n",
            "5\n"
          ]
        }
      ]
    },
    {
      "cell_type": "code",
      "source": [
        "# Test:\n",
        "head1 = None\n",
        "\n",
        "node1 = ListNode(1)\n",
        "node2 = ListNode(2)\n",
        "node1.next = node2\n",
        "head2 = node1\n",
        "\n",
        "head = merge_two_lists(head1, head2)\n",
        "cur = head\n",
        "while cur:\n",
        "    print(cur.val)\n",
        "    cur = cur.next"
      ],
      "metadata": {
        "id": "9EAUXXg3lAjO",
        "colab": {
          "base_uri": "https://localhost:8080/"
        },
        "outputId": "b76cdaf0-a81e-4850-b0f1-022b704f8d5c"
      },
      "execution_count": 22,
      "outputs": [
        {
          "output_type": "stream",
          "name": "stdout",
          "text": [
            "1\n",
            "2\n"
          ]
        }
      ]
    },
    {
      "cell_type": "code",
      "source": [
        "# Test:\n",
        "head1 = None\n",
        "head2 = None\n",
        "head = merge_two_lists(head1, head2)\n",
        "head is None"
      ],
      "metadata": {
        "colab": {
          "base_uri": "https://localhost:8080/"
        },
        "id": "_KtcYsJ9lWAK",
        "outputId": "b7f36081-7292-4c96-a72e-63be78d037b4"
      },
      "execution_count": 23,
      "outputs": [
        {
          "output_type": "execute_result",
          "data": {
            "text/plain": [
              "True"
            ]
          },
          "metadata": {},
          "execution_count": 23
        }
      ]
    },
    {
      "cell_type": "markdown",
      "source": [
        "## Doubly Linked Lists"
      ],
      "metadata": {
        "id": "9zzZwODBWYUW"
      }
    },
    {
      "cell_type": "markdown",
      "source": [
        "### Design Linked List"
      ],
      "metadata": {
        "id": "exL5DLgAuBcG"
      }
    },
    {
      "cell_type": "code",
      "source": [
        "class ListNode:\n",
        "    def __init__(self, val):\n",
        "        self.val = val\n",
        "        self.next = None\n",
        "        self.prev = None"
      ],
      "metadata": {
        "id": "8lkP4p96eEko"
      },
      "execution_count": 24,
      "outputs": []
    },
    {
      "cell_type": "code",
      "source": [
        "class MyLinkedList:\n",
        "    def __init__(self):\n",
        "        self.left = ListNode(-1) # Dummy node.\n",
        "        self.right = ListNode(-1) # Dummy node.\n",
        "        self.left.next = self.right\n",
        "        self.right.prev = self.left\n",
        "\n",
        "    def get(self, index):\n",
        "        cur = self.left.next\n",
        "        while cur and index > 0:\n",
        "            cur = cur.next\n",
        "            index -= 1\n",
        "        if cur and cur is not self.right and index == 0:\n",
        "            return cur.val\n",
        "        else:\n",
        "            return -1\n",
        "\n",
        "    def add_at_head(self, val):\n",
        "        new_node = ListNode(val)\n",
        "        prev, next = self.left, self.left.next\n",
        "        new_node.next = next\n",
        "        prev.next = new_node\n",
        "        next.prev = new_node\n",
        "        new_node.prev = prev\n",
        "\n",
        "    def add_at_tail(self, val):\n",
        "        new_node = ListNode(val)\n",
        "        prev, next = self.right.prev, self.right\n",
        "        new_node.next = next\n",
        "        prev.next = new_node\n",
        "        next.prev = new_node\n",
        "        new_node.prev = prev\n",
        "\n",
        "    def add_at_index(self, index, val):\n",
        "        new_node = ListNode(val)\n",
        "        cur = self.left.next\n",
        "        while cur and index > 0:\n",
        "            cur = cur.next\n",
        "            index -= 1\n",
        "        if cur and index == 0:\n",
        "            prev = cur.prev\n",
        "            new_node.next = cur\n",
        "            prev.next = new_node\n",
        "            cur.prev = new_node\n",
        "            new_node.prev = prev\n",
        "\n",
        "    def delete_at_index(self, index):\n",
        "        cur = self.left.next\n",
        "        while cur and index > 0:\n",
        "            cur = cur.next\n",
        "            index -= 1\n",
        "        if cur and cur is not self.right and index == 0:\n",
        "            prev, next = cur.prev, cur.next\n",
        "            prev.next = next\n",
        "            next.prev = prev"
      ],
      "metadata": {
        "id": "GSJfAxbzqID7"
      },
      "execution_count": 25,
      "outputs": []
    },
    {
      "cell_type": "code",
      "source": [
        "# Test:\n",
        "ll = MyLinkedList()\n",
        "ll.get(0)"
      ],
      "metadata": {
        "colab": {
          "base_uri": "https://localhost:8080/"
        },
        "id": "8Qzcqwd4wg0N",
        "outputId": "82ea1bfa-1d6a-4c72-e76a-b30d0c8193e7"
      },
      "execution_count": 26,
      "outputs": [
        {
          "output_type": "execute_result",
          "data": {
            "text/plain": [
              "-1"
            ]
          },
          "metadata": {},
          "execution_count": 26
        }
      ]
    },
    {
      "cell_type": "code",
      "source": [
        "ll.add_at_head(1)\n",
        "ll.get(0)"
      ],
      "metadata": {
        "colab": {
          "base_uri": "https://localhost:8080/"
        },
        "id": "ECZjqCPUCpGq",
        "outputId": "ea077a4a-4bad-48ce-ad1a-8918633998da"
      },
      "execution_count": 27,
      "outputs": [
        {
          "output_type": "execute_result",
          "data": {
            "text/plain": [
              "1"
            ]
          },
          "metadata": {},
          "execution_count": 27
        }
      ]
    },
    {
      "cell_type": "code",
      "source": [
        "ll.add_at_tail(3)\n",
        "ll.get(1)"
      ],
      "metadata": {
        "colab": {
          "base_uri": "https://localhost:8080/"
        },
        "id": "zE0QurwKE53T",
        "outputId": "70e7907b-54d5-428a-b17e-087d01bbf9fd"
      },
      "execution_count": 28,
      "outputs": [
        {
          "output_type": "execute_result",
          "data": {
            "text/plain": [
              "3"
            ]
          },
          "metadata": {},
          "execution_count": 28
        }
      ]
    },
    {
      "cell_type": "code",
      "source": [
        "ll.add_at_index(1, 2)\n",
        "ll.get(1)"
      ],
      "metadata": {
        "colab": {
          "base_uri": "https://localhost:8080/"
        },
        "id": "YGhUSGyoMWGG",
        "outputId": "cc20615f-bea3-4475-d945-5436a7abe5f5"
      },
      "execution_count": 29,
      "outputs": [
        {
          "output_type": "execute_result",
          "data": {
            "text/plain": [
              "2"
            ]
          },
          "metadata": {},
          "execution_count": 29
        }
      ]
    },
    {
      "cell_type": "code",
      "source": [
        "ll.add_at_index(3, 4)\n",
        "cur = ll.left.next\n",
        "while cur and cur is not ll.right:\n",
        "    print(cur.val)\n",
        "    cur = cur.next"
      ],
      "metadata": {
        "colab": {
          "base_uri": "https://localhost:8080/"
        },
        "id": "UCsPJ_6jMiR-",
        "outputId": "f1143927-a61f-465e-a057-89e81944e6a2"
      },
      "execution_count": 30,
      "outputs": [
        {
          "output_type": "stream",
          "name": "stdout",
          "text": [
            "1\n",
            "2\n",
            "3\n",
            "4\n"
          ]
        }
      ]
    },
    {
      "cell_type": "code",
      "source": [
        "ll.delete_at_index(3)\n",
        "cur = ll.left.next\n",
        "while cur and cur is not ll.right:\n",
        "    print(cur.val)\n",
        "    cur = cur.next"
      ],
      "metadata": {
        "colab": {
          "base_uri": "https://localhost:8080/"
        },
        "id": "H1CEApQEMy4F",
        "outputId": "55860791-d822-423e-d18f-03590d40896e"
      },
      "execution_count": 31,
      "outputs": [
        {
          "output_type": "stream",
          "name": "stdout",
          "text": [
            "1\n",
            "2\n",
            "3\n"
          ]
        }
      ]
    },
    {
      "cell_type": "code",
      "source": [
        "ll.delete_at_index(1)\n",
        "ll.get(1)"
      ],
      "metadata": {
        "colab": {
          "base_uri": "https://localhost:8080/"
        },
        "id": "y2de-1JTPNk9",
        "outputId": "f8f0e790-81af-4131-fc64-472dfa2b6530"
      },
      "execution_count": 32,
      "outputs": [
        {
          "output_type": "execute_result",
          "data": {
            "text/plain": [
              "3"
            ]
          },
          "metadata": {},
          "execution_count": 32
        }
      ]
    },
    {
      "cell_type": "markdown",
      "source": [
        "### Design Browser History"
      ],
      "metadata": {
        "id": "NMnwyXQeIHVc"
      }
    },
    {
      "cell_type": "code",
      "source": [
        "class Node:\n",
        "    def __init__(self, val):\n",
        "        self.val = val\n",
        "        self.prev = None\n",
        "        self.next = None"
      ],
      "metadata": {
        "id": "lkysQtbLblMz"
      },
      "execution_count": 33,
      "outputs": []
    },
    {
      "cell_type": "code",
      "source": [
        "class BrowserHistory:\n",
        "    def __init__(self, homepage):\n",
        "        self.left = Node(\"dummy\")\n",
        "        self.right = Node(\"dummy\")\n",
        "        self.homepage = Node(homepage)\n",
        "        self.left.next = self.homepage\n",
        "        self.homepage.prev = self.left\n",
        "        self.homepage.next = self.right\n",
        "        self.right.prev = self.homepage\n",
        "        self.cur = self.homepage\n",
        "\n",
        "    def visit(self, url):\n",
        "        url = Node(url)\n",
        "        self.cur.next = url\n",
        "        url.prev = self.cur\n",
        "        url.next = self.right\n",
        "        self.right.prev = url\n",
        "        self.cur = url\n",
        "\n",
        "    def back(self, steps):\n",
        "        while self.cur is not self.left.next and steps > 0:\n",
        "            self.cur = self.cur.prev\n",
        "            steps -= 1\n",
        "        return self.cur.val\n",
        "\n",
        "    def forward(self, steps):\n",
        "        while self.cur is not self.right.prev and steps > 0:\n",
        "            self.cur = self.cur.next\n",
        "            steps -= 1\n",
        "        return self.cur.val"
      ],
      "metadata": {
        "id": "OFpGcAxFfZIT"
      },
      "execution_count": 34,
      "outputs": []
    },
    {
      "cell_type": "code",
      "source": [
        "# Test:\n",
        "bh = BrowserHistory(\"leetcode.com\");\n",
        "bh.visit(\"google.com\") # You are in \"leetcode.com\". Visit \"google.com\"\n",
        "bh.visit(\"facebook.com\") # You are in \"google.com\". Visit \"facebook.com\"\n",
        "bh.visit(\"youtube.com\") # You are in \"facebook.com\". Visit \"youtube.com\"\n",
        "print(bh.back(1)) # You are in \"youtube.com\", move back to \"facebook.com\" return \"facebook.com\"\n",
        "print(bh.back(1)) # You are in \"facebook.com\", move back to \"google.com\" return \"google.com\"\n",
        "print(bh.forward(1)) # You are in \"google.com\", move forward to \"facebook.com\" return \"facebook.com\"\n",
        "bh.visit(\"linkedin.com\") # You are in \"facebook.com\". Visit \"linkedin.com\"\n",
        "print(bh.forward(2)) # You are in \"linkedin.com\", you cannot move forward any steps.\n",
        "print(bh.back(2)) # You are in \"linkedin.com\", move back two steps to \"facebook.com\" then to \"google.com\". return \"google.com\"\n",
        "print(bh.back(7)) # You are in \"google.com\", you can move back only one step to \"leetcode.com\". return \"leetcode.com\""
      ],
      "metadata": {
        "colab": {
          "base_uri": "https://localhost:8080/"
        },
        "id": "Hc-pJQwPimJz",
        "outputId": "e0b2abbc-f195-4ea9-f100-4df49e3eb075"
      },
      "execution_count": 35,
      "outputs": [
        {
          "output_type": "stream",
          "name": "stdout",
          "text": [
            "facebook.com\n",
            "google.com\n",
            "facebook.com\n",
            "linkedin.com\n",
            "google.com\n",
            "leetcode.com\n"
          ]
        }
      ]
    },
    {
      "cell_type": "markdown",
      "source": [
        "## Queues"
      ],
      "metadata": {
        "id": "7EYLVQngWbsM"
      }
    },
    {
      "cell_type": "markdown",
      "source": [
        "### Design Double-ended Queue"
      ],
      "metadata": {
        "id": "F8r1RU5nkx87"
      }
    },
    {
      "cell_type": "code",
      "execution_count": 36,
      "metadata": {
        "id": "SaDGxUfwWP0v"
      },
      "outputs": [],
      "source": [
        "class ListNode:\n",
        "    def __init__(self, val):\n",
        "        self.val = val\n",
        "        self.next = None\n",
        "        self.prev = None"
      ]
    },
    {
      "cell_type": "code",
      "source": [
        "class Deque:\n",
        "    def __init__(self):\n",
        "        self.left = ListNode(-1)\n",
        "        self.right = ListNode(-1)\n",
        "        self.left.next = self.right\n",
        "        self.right.prev = self.left\n",
        "\n",
        "    def isEmpty(self):\n",
        "        return True if self.left.next is self.right else False\n",
        "\n",
        "    def append(self, val):\n",
        "        new_node = ListNode(val)\n",
        "        prev = self.right.prev\n",
        "        new_node.next = self.right\n",
        "        self.right.prev = new_node\n",
        "        prev.next = new_node\n",
        "        new_node.prev = prev\n",
        "\n",
        "    def appendLeft(self, val):\n",
        "        new_node = ListNode(val)\n",
        "        nxt = self.left.next\n",
        "        new_node.next = nxt\n",
        "        nxt.prev = new_node\n",
        "        self.left.next = new_node\n",
        "        new_node.prev = self.left\n",
        "\n",
        "    def pop(self):\n",
        "        if self.isEmpty():\n",
        "            return -1\n",
        "        else:\n",
        "            target = self.right.prev\n",
        "            target.prev.next = self.right\n",
        "            self.right.prev = target.prev\n",
        "            return target.val\n",
        "\n",
        "    def popLeft(self):\n",
        "        if self.isEmpty():\n",
        "            return -1\n",
        "        else:\n",
        "            target = self.left.next\n",
        "            self.left.next = target.next\n",
        "            target.next.prev = self.left\n",
        "            return target.val"
      ],
      "metadata": {
        "id": "46tJz3YFv8di"
      },
      "execution_count": 37,
      "outputs": []
    },
    {
      "cell_type": "code",
      "source": [
        "# Test:\n",
        "deque = Deque()\n",
        "\n",
        "print(deque.isEmpty())\n",
        "print(deque.append(10))\n",
        "print(deque.isEmpty())\n",
        "print(deque.appendLeft(20))\n",
        "print(deque.popLeft())\n",
        "print(deque.pop())\n",
        "print(deque.pop())\n",
        "print(deque.append(30))\n",
        "print(deque.pop())\n",
        "print(deque.isEmpty())"
      ],
      "metadata": {
        "colab": {
          "base_uri": "https://localhost:8080/"
        },
        "id": "pcscidddzTmL",
        "outputId": "7a1aa6b9-0cf2-4c55-bbad-92e897f98a1d"
      },
      "execution_count": 38,
      "outputs": [
        {
          "output_type": "stream",
          "name": "stdout",
          "text": [
            "True\n",
            "None\n",
            "False\n",
            "None\n",
            "20\n",
            "10\n",
            "-1\n",
            "None\n",
            "30\n",
            "True\n"
          ]
        }
      ]
    },
    {
      "cell_type": "markdown",
      "source": [
        "### Number of Students Unable to Eat Lunch"
      ],
      "metadata": {
        "id": "JvFzc8CSsJ_9"
      }
    },
    {
      "cell_type": "code",
      "source": [
        "from collections import Counter\n",
        "\n",
        "Counter([1,1,1,0,0,1])"
      ],
      "metadata": {
        "id": "uo6jIrRZFRqT",
        "colab": {
          "base_uri": "https://localhost:8080/"
        },
        "outputId": "6a172fae-3a11-4679-dda0-b663a8e0f0f7"
      },
      "execution_count": 39,
      "outputs": [
        {
          "output_type": "execute_result",
          "data": {
            "text/plain": [
              "Counter({1: 4, 0: 2})"
            ]
          },
          "metadata": {},
          "execution_count": 39
        }
      ]
    },
    {
      "cell_type": "code",
      "source": [
        "from collections import Counter\n",
        "\n",
        "def countStudents(students, sandwiches):\n",
        "    preferences = Counter(students)\n",
        "    for s in sandwiches:\n",
        "        if preferences[s] == 0:\n",
        "            return preferences[0] + preferences[1]\n",
        "        else:\n",
        "            preferences[s] -= 1\n",
        "    return 0"
      ],
      "metadata": {
        "id": "vjWO_nlj5fd3"
      },
      "execution_count": 40,
      "outputs": []
    },
    {
      "cell_type": "code",
      "source": [
        "# Test:\n",
        "students = [1,1,0,0]\n",
        "sandwiches = [0,1,0,1]\n",
        "countStudents(students, sandwiches)"
      ],
      "metadata": {
        "id": "XQqehrd1FKn9",
        "colab": {
          "base_uri": "https://localhost:8080/"
        },
        "outputId": "a0f5cfa6-d31c-4d5b-82d9-f7ef471ab6bc"
      },
      "execution_count": 41,
      "outputs": [
        {
          "output_type": "execute_result",
          "data": {
            "text/plain": [
              "0"
            ]
          },
          "metadata": {},
          "execution_count": 41
        }
      ]
    },
    {
      "cell_type": "code",
      "source": [
        "# Test:\n",
        "students = [1,1,1,0,0,1]\n",
        "sandwiches = [1,0,0,0,1,1]\n",
        "countStudents(students, sandwiches)"
      ],
      "metadata": {
        "colab": {
          "base_uri": "https://localhost:8080/"
        },
        "id": "0gdZaZRn3PsP",
        "outputId": "7b926cbe-62b0-4043-b3fa-33c8937a754f"
      },
      "execution_count": 42,
      "outputs": [
        {
          "output_type": "execute_result",
          "data": {
            "text/plain": [
              "3"
            ]
          },
          "metadata": {},
          "execution_count": 42
        }
      ]
    },
    {
      "cell_type": "markdown",
      "source": [
        "### Implement Stack Using Queues"
      ],
      "metadata": {
        "id": "XGTGsSsnsNfW"
      }
    },
    {
      "cell_type": "code",
      "source": [
        "from collections import deque\n",
        "\n",
        "q = deque()\n",
        "q"
      ],
      "metadata": {
        "colab": {
          "base_uri": "https://localhost:8080/"
        },
        "id": "oIJuj_Cpw4Oa",
        "outputId": "a0af4767-8065-453c-9337-f8b435be9442"
      },
      "execution_count": 43,
      "outputs": [
        {
          "output_type": "execute_result",
          "data": {
            "text/plain": [
              "deque([])"
            ]
          },
          "metadata": {},
          "execution_count": 43
        }
      ]
    },
    {
      "cell_type": "code",
      "source": [
        "# Enqueue:\n",
        "q.append(8)\n",
        "q.append(16)\n",
        "q.append(24)\n",
        "q.append(32)\n",
        "q"
      ],
      "metadata": {
        "colab": {
          "base_uri": "https://localhost:8080/"
        },
        "id": "kh5V5APAw-K2",
        "outputId": "409094f9-0e00-4734-8f97-4e087700518b"
      },
      "execution_count": 44,
      "outputs": [
        {
          "output_type": "execute_result",
          "data": {
            "text/plain": [
              "deque([8, 16, 24, 32])"
            ]
          },
          "metadata": {},
          "execution_count": 44
        }
      ]
    },
    {
      "cell_type": "code",
      "source": [
        "# Peek (from front):\n",
        "q[0]"
      ],
      "metadata": {
        "colab": {
          "base_uri": "https://localhost:8080/"
        },
        "id": "PbHaRXAdxNy3",
        "outputId": "9ed075e6-5b48-43e5-a74a-8c61d50d6b60"
      },
      "execution_count": 45,
      "outputs": [
        {
          "output_type": "execute_result",
          "data": {
            "text/plain": [
              "8"
            ]
          },
          "metadata": {},
          "execution_count": 45
        }
      ]
    },
    {
      "cell_type": "code",
      "source": [
        "# Dequeue:\n",
        "print(q.popleft())\n",
        "q"
      ],
      "metadata": {
        "colab": {
          "base_uri": "https://localhost:8080/"
        },
        "id": "o9CVZPHdxR5f",
        "outputId": "2b39d39e-995b-41f6-8133-44c83874f8c4"
      },
      "execution_count": 46,
      "outputs": [
        {
          "output_type": "stream",
          "name": "stdout",
          "text": [
            "8\n"
          ]
        },
        {
          "output_type": "execute_result",
          "data": {
            "text/plain": [
              "deque([16, 24, 32])"
            ]
          },
          "metadata": {},
          "execution_count": 46
        }
      ]
    },
    {
      "cell_type": "code",
      "source": [
        "# Size:\n",
        "len(q)"
      ],
      "metadata": {
        "colab": {
          "base_uri": "https://localhost:8080/"
        },
        "id": "UN65Zyo5xW74",
        "outputId": "897b0e06-b04f-4fd9-8b0c-c545a373eacb"
      },
      "execution_count": 47,
      "outputs": [
        {
          "output_type": "execute_result",
          "data": {
            "text/plain": [
              "3"
            ]
          },
          "metadata": {},
          "execution_count": 47
        }
      ]
    },
    {
      "cell_type": "code",
      "source": [
        "# Is empty:\n",
        "len(q) == 0"
      ],
      "metadata": {
        "colab": {
          "base_uri": "https://localhost:8080/"
        },
        "id": "_8pf9S1TxZMM",
        "outputId": "f38921f3-1f7b-4d94-8685-2f7995835eb1"
      },
      "execution_count": 48,
      "outputs": [
        {
          "output_type": "execute_result",
          "data": {
            "text/plain": [
              "False"
            ]
          },
          "metadata": {},
          "execution_count": 48
        }
      ]
    },
    {
      "cell_type": "markdown",
      "source": [
        "**Note:**\n",
        "\n",
        "1. Even though LeetCode asks you to solve this problem using two queues, it doesn't make to use more than one queue.\n",
        "2. There is no way to implement the `push` method in constant time. The minimum time complexity is $O(n)$.\n",
        "3. Navdeep's solution is incorrect, because he peeks from the back of his queue, which is not allowed."
      ],
      "metadata": {
        "id": "OnxWkKMSNsxX"
      }
    },
    {
      "cell_type": "code",
      "source": [
        "from collections import deque\n",
        "\n",
        "class MyStack:\n",
        "    def __init__(self):\n",
        "        self.q = deque()\n",
        "\n",
        "    def push(self, x):\n",
        "        self.q.append(x)\n",
        "        for i in range(len(self.q) - 1):\n",
        "            self.q.append(self.q.popleft())\n",
        "\n",
        "    def pop(self):\n",
        "        return self.q.popleft()\n",
        "\n",
        "    def top(self):\n",
        "        return self.q[0]\n",
        "\n",
        "    def empty(self):\n",
        "        return len(self.q) == 0"
      ],
      "metadata": {
        "id": "UxU0yx_LzAiA"
      },
      "execution_count": 49,
      "outputs": []
    },
    {
      "cell_type": "code",
      "source": [
        "# Test:\n",
        "myStack = MyStack()\n",
        "myStack.push(1)\n",
        "myStack.push(2)\n",
        "print(myStack.top()) # return 2\n",
        "print(myStack.pop()) # return 2\n",
        "print(myStack.empty()) # return False"
      ],
      "metadata": {
        "colab": {
          "base_uri": "https://localhost:8080/"
        },
        "id": "TE1VvzrIRAS1",
        "outputId": "d3b99735-e2bb-497e-e152-443ba56863db"
      },
      "execution_count": 50,
      "outputs": [
        {
          "output_type": "stream",
          "name": "stdout",
          "text": [
            "2\n",
            "2\n",
            "False\n"
          ]
        }
      ]
    },
    {
      "cell_type": "code",
      "source": [],
      "metadata": {
        "id": "QtBZb2AGRZK4"
      },
      "execution_count": 50,
      "outputs": []
    }
  ]
}