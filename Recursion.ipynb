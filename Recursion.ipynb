{
  "nbformat": 4,
  "nbformat_minor": 0,
  "metadata": {
    "colab": {
      "provenance": [],
      "toc_visible": true,
      "authorship_tag": "ABX9TyPlbeTGmZID4x7yMsCSV/RS"
    },
    "kernelspec": {
      "name": "python3",
      "display_name": "Python 3"
    },
    "language_info": {
      "name": "python"
    }
  },
  "cells": [
    {
      "cell_type": "markdown",
      "source": [
        "# Recursion"
      ],
      "metadata": {
        "id": "p7dAl1ubBDaW"
      }
    },
    {
      "cell_type": "markdown",
      "source": [
        "## Factorial"
      ],
      "metadata": {
        "id": "45-r7fLqBG2z"
      }
    },
    {
      "cell_type": "code",
      "source": [
        "def factorial(n):\n",
        "    if n <= 1:\n",
        "        return 1\n",
        "    return n * factorial(n - 1)"
      ],
      "metadata": {
        "id": "jfKzoVgwRB8U"
      },
      "execution_count": 1,
      "outputs": []
    },
    {
      "cell_type": "code",
      "source": [
        "# Test:\n",
        "factorial(0)"
      ],
      "metadata": {
        "colab": {
          "base_uri": "https://localhost:8080/"
        },
        "id": "x91auau2RRLS",
        "outputId": "ee112a09-7ac8-4250-961a-dc6a080536b5"
      },
      "execution_count": 2,
      "outputs": [
        {
          "output_type": "execute_result",
          "data": {
            "text/plain": [
              "1"
            ]
          },
          "metadata": {},
          "execution_count": 2
        }
      ]
    },
    {
      "cell_type": "code",
      "source": [
        "# Test:\n",
        "factorial(5)"
      ],
      "metadata": {
        "colab": {
          "base_uri": "https://localhost:8080/"
        },
        "id": "PexOOm7YRWft",
        "outputId": "d20a7e72-8338-4205-e4d7-a8e06fc2fbdc"
      },
      "execution_count": 3,
      "outputs": [
        {
          "output_type": "execute_result",
          "data": {
            "text/plain": [
              "120"
            ]
          },
          "metadata": {},
          "execution_count": 3
        }
      ]
    },
    {
      "cell_type": "markdown",
      "source": [
        "**Definition:** A **stack overflow error** occurs when a computer program attempts to use more memory in the function call stack than has been allocated. This can happen when the function calling chain becomes too long, often due to infinite recursion."
      ],
      "metadata": {
        "id": "jmz3NPGCi5nB"
      }
    },
    {
      "cell_type": "markdown",
      "source": [
        "### Reverse a Linked List"
      ],
      "metadata": {
        "id": "VWHIIydYDqlP"
      }
    },
    {
      "cell_type": "code",
      "source": [
        "class ListNode:\n",
        "    def __init__(self, val):\n",
        "        self.val = val\n",
        "        self.next = None"
      ],
      "metadata": {
        "id": "LzHpQA_xZMdU"
      },
      "execution_count": 4,
      "outputs": []
    },
    {
      "cell_type": "code",
      "source": [
        "def reverseList(head):\n",
        "    if head is None: # Base case plus edge case where linked list is empty.\n",
        "        return head\n",
        "\n",
        "    new_head = head # new_head is a reference to the right-most node.\n",
        "    if head.next:\n",
        "        new_head = reverseList(head.next)\n",
        "        head.next.next = head\n",
        "    head.next = None\n",
        "\n",
        "    return new_head"
      ],
      "metadata": {
        "id": "Qow1ysszZVUX"
      },
      "execution_count": 5,
      "outputs": []
    },
    {
      "cell_type": "code",
      "source": [
        "# Test:\n",
        "node0 = ListNode(0)\n",
        "node1 = ListNode(1)\n",
        "node2 = ListNode(2)\n",
        "node3 = ListNode(3)\n",
        "node0.next = node1\n",
        "node1.next = node2\n",
        "node2.next = node3\n",
        "head = node0\n",
        "\n",
        "new_head = reverseList(head)\n",
        "\n",
        "cur = new_head\n",
        "while cur:\n",
        "    print(cur.val)\n",
        "    cur = cur.next"
      ],
      "metadata": {
        "id": "2swMuvw-Dr6r",
        "colab": {
          "base_uri": "https://localhost:8080/"
        },
        "outputId": "62630747-9ac1-45e3-acd3-d2eb8e769ec1"
      },
      "execution_count": 6,
      "outputs": [
        {
          "output_type": "stream",
          "name": "stdout",
          "text": [
            "3\n",
            "2\n",
            "1\n",
            "0\n"
          ]
        }
      ]
    },
    {
      "cell_type": "code",
      "source": [
        "# Test:\n",
        "head = None\n",
        "\n",
        "new_head = reverseList(head)\n",
        "\n",
        "cur = new_head\n",
        "while cur:\n",
        "    print(cur.val)\n",
        "    cur = cur.next"
      ],
      "metadata": {
        "id": "U87Y7Ul4av3F"
      },
      "execution_count": 7,
      "outputs": []
    },
    {
      "cell_type": "markdown",
      "source": [
        "## Fibonacci Sequence"
      ],
      "metadata": {
        "id": "sWy1ouyTBKBK"
      }
    },
    {
      "cell_type": "code",
      "execution_count": 8,
      "metadata": {
        "id": "efu5gXd8-CSc"
      },
      "outputs": [],
      "source": [
        "def fib(n):\n",
        "    if n <= 1:\n",
        "        return n\n",
        "    return fib(n - 1) + fib(n - 2)"
      ]
    },
    {
      "cell_type": "code",
      "source": [
        "# Test:\n",
        "fib(0)"
      ],
      "metadata": {
        "colab": {
          "base_uri": "https://localhost:8080/"
        },
        "id": "49iayrbaR79f",
        "outputId": "9733c560-bbc7-499e-ca9b-02a7a8a3dd6e"
      },
      "execution_count": 9,
      "outputs": [
        {
          "output_type": "execute_result",
          "data": {
            "text/plain": [
              "0"
            ]
          },
          "metadata": {},
          "execution_count": 9
        }
      ]
    },
    {
      "cell_type": "code",
      "source": [
        "# Test:\n",
        "fib(5)"
      ],
      "metadata": {
        "colab": {
          "base_uri": "https://localhost:8080/"
        },
        "id": "NwAz_VqgR461",
        "outputId": "9aa0648a-5ded-4960-d79d-f18dd843d3b4"
      },
      "execution_count": 10,
      "outputs": [
        {
          "output_type": "execute_result",
          "data": {
            "text/plain": [
              "5"
            ]
          },
          "metadata": {},
          "execution_count": 10
        }
      ]
    },
    {
      "cell_type": "markdown",
      "source": [
        "### Climbing Stairs"
      ],
      "metadata": {
        "id": "OenohaAR8Efl"
      }
    },
    {
      "cell_type": "code",
      "source": [
        "def climbStairs(n):\n",
        "    def dfs(current_step):\n",
        "        if current_step >= n:\n",
        "            return current_step == n # Return 1 if current_step is 5; return 0 if current_step is 6.\n",
        "        return dfs(current_step + 1) + dfs(current_step + 2)\n",
        "    return dfs(0)"
      ],
      "metadata": {
        "id": "oSGDftQZqTJ_"
      },
      "execution_count": 11,
      "outputs": []
    },
    {
      "cell_type": "code",
      "source": [
        "# Test:\n",
        "climbStairs(2)"
      ],
      "metadata": {
        "colab": {
          "base_uri": "https://localhost:8080/"
        },
        "id": "Q4lkvZmsq6bq",
        "outputId": "144984d8-f9f9-4701-d3cd-cf844f732b74"
      },
      "execution_count": 12,
      "outputs": [
        {
          "output_type": "execute_result",
          "data": {
            "text/plain": [
              "2"
            ]
          },
          "metadata": {},
          "execution_count": 12
        }
      ]
    },
    {
      "cell_type": "code",
      "source": [
        "# Test:\n",
        "climbStairs(3)"
      ],
      "metadata": {
        "colab": {
          "base_uri": "https://localhost:8080/"
        },
        "id": "X31g4otiq-eg",
        "outputId": "36b74bf9-6931-4e73-b5d1-edbaf0df7ef0"
      },
      "execution_count": 13,
      "outputs": [
        {
          "output_type": "execute_result",
          "data": {
            "text/plain": [
              "3"
            ]
          },
          "metadata": {},
          "execution_count": 13
        }
      ]
    },
    {
      "cell_type": "code",
      "source": [
        "# Test:\n",
        "climbStairs(5)"
      ],
      "metadata": {
        "colab": {
          "base_uri": "https://localhost:8080/"
        },
        "id": "mR4Vzg_PrCOE",
        "outputId": "f8da9e79-623e-427c-dda9-9b43e1841982"
      },
      "execution_count": 14,
      "outputs": [
        {
          "output_type": "execute_result",
          "data": {
            "text/plain": [
              "8"
            ]
          },
          "metadata": {},
          "execution_count": 14
        }
      ]
    },
    {
      "cell_type": "code",
      "source": [],
      "metadata": {
        "id": "JBvWJ1BkEJ8Z"
      },
      "execution_count": 14,
      "outputs": []
    }
  ]
}