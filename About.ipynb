{
  "nbformat": 4,
  "nbformat_minor": 0,
  "metadata": {
    "colab": {
      "provenance": [],
      "authorship_tag": "ABX9TyOa+9q+NhHQijyrUzUwir+H"
    },
    "kernelspec": {
      "name": "python3",
      "display_name": "Python 3"
    },
    "language_info": {
      "name": "python"
    }
  },
  "cells": [
    {
      "cell_type": "markdown",
      "source": [
        "# About"
      ],
      "metadata": {
        "id": "C9A30KEX0IDt"
      }
    },
    {
      "cell_type": "markdown",
      "source": [
        "## Introduction"
      ],
      "metadata": {
        "id": "iK7IiTOH1TUG"
      }
    },
    {
      "cell_type": "markdown",
      "source": [
        "We're going to be talking about the (i) design, (ii) implementation, (iii) tradeoffs and (iv) analysis of all the common data structures and algorithms."
      ],
      "metadata": {
        "id": "f7t1WAgr1Vf7"
      }
    },
    {
      "cell_type": "code",
      "execution_count": null,
      "metadata": {
        "id": "xr7xf2-mzq_o"
      },
      "outputs": [],
      "source": []
    }
  ]
}