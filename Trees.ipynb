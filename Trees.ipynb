{
  "nbformat": 4,
  "nbformat_minor": 0,
  "metadata": {
    "colab": {
      "provenance": [],
      "toc_visible": true,
      "authorship_tag": "ABX9TyM+IatWlVqEjY6rBUj/MUwZ"
    },
    "kernelspec": {
      "name": "python3",
      "display_name": "Python 3"
    },
    "language_info": {
      "name": "python"
    }
  },
  "cells": [
    {
      "cell_type": "markdown",
      "source": [
        "# Trees"
      ],
      "metadata": {
        "id": "eFK4qnJHWaNy"
      }
    },
    {
      "cell_type": "markdown",
      "source": [
        "## Binary Tree"
      ],
      "metadata": {
        "id": "nV6Wp93RWl8c"
      }
    },
    {
      "cell_type": "code",
      "source": [
        "class TreeNode:\n",
        "    def __init__(self, val):\n",
        "        self.val = val\n",
        "        self.left = None\n",
        "        self.right = None"
      ],
      "metadata": {
        "id": "K3RbP6w6IQs-"
      },
      "execution_count": null,
      "outputs": []
    },
    {
      "cell_type": "markdown",
      "source": [
        "## Binary Search Tree"
      ],
      "metadata": {
        "id": "znXfHrGjWodd"
      }
    },
    {
      "cell_type": "code",
      "source": [
        "def search(root, target):\n",
        "    if root is None: # Base case: target not found.\n",
        "        return False\n",
        "\n",
        "    if target > root.val: # Recursive case.\n",
        "        return search(root.right, target) # Return the result of searching in the right sub-tree.\n",
        "    elif target < root.val: # Recursive case.\n",
        "        return search(root.left, target) # Return the result of searching in the left sub-tree.\n",
        "    else: # Base case: target found.\n",
        "        return True"
      ],
      "metadata": {
        "id": "2g-mpam_Ivlv"
      },
      "execution_count": null,
      "outputs": []
    },
    {
      "cell_type": "markdown",
      "source": [
        "For a balanced tree, this algorithm has a time complexity of $O(log\\ n)$ and a space complexity of $O(log\\ n)$. (The space complexity of a recursive algorithm is the maximum number of elements in the call stack during the execution of the algorithm.)\n",
        "\n",
        "**Note:** This is one-branch recursion, since only one of the recursive calls get executed."
      ],
      "metadata": {
        "id": "qwsnKtm8zbE0"
      }
    },
    {
      "cell_type": "markdown",
      "source": [
        "### Search in a Binary Search Tree"
      ],
      "metadata": {
        "id": "HkRXHNF4oFuO"
      }
    },
    {
      "cell_type": "code",
      "source": [
        "def searchBST(root, val):\n",
        "    if root is None:\n",
        "        return None\n",
        "\n",
        "    if val > root.val:\n",
        "        return searchBST(root.right, val)\n",
        "    elif val < root.val:\n",
        "        return searchBST(root.left, val)\n",
        "    else:\n",
        "        return root"
      ],
      "metadata": {
        "id": "-UhhMTdFKDx9"
      },
      "execution_count": null,
      "outputs": []
    },
    {
      "cell_type": "markdown",
      "source": [
        "For a balanced tree, this algorithm has a time complexity of $O(log\\ n)$ and a space complexity of $O(log\\ n)$."
      ],
      "metadata": {
        "id": "SKhlvuIEp54O"
      }
    },
    {
      "cell_type": "markdown",
      "source": [
        "## BST Insert and Remove"
      ],
      "metadata": {
        "id": "ggqkWxX0XIQM"
      }
    },
    {
      "cell_type": "code",
      "source": [
        "def insert(root, val):\n",
        "    if root is None: # Base case.\n",
        "        return TreeNode(val) # Create a new node and return it.\n",
        "\n",
        "    if val > root.right: # Recursive case.\n",
        "        root.right = insert(root.right, val) # Insert into the right sub-tree and assign the root of the right sub-tree as the right child of the current node.\n",
        "    elif val < root.val: # Recursive case.\n",
        "        root.left = insert(root.left, val) # Insert into the left sub-tree and assign the root of the left sub-tree as the left child of the current node.\n",
        "    return root # Return the current node.\n",
        "    # Note: Implicitly, `if val == root.val`, then don't do anything (i.e., don't insert duplicates); just return the current node."
      ],
      "metadata": {
        "id": "NDsvidpaKc-b"
      },
      "execution_count": null,
      "outputs": []
    },
    {
      "cell_type": "markdown",
      "source": [
        "For a balanced tree, this algorithm has a time complexity of $O(log\\ n)$ and a space complexity of $O(log\\ n)$.\n",
        "\n",
        "**Note:** Consider the case `val > root.val`. From the perspective of the current node, if the right child is not `None`, then the assignment of the right pointer is a re-assignment. (It doesn't really do anything new.) Only when the right child is `None` does the right pointer get assigned to a new node - the node that just got created."
      ],
      "metadata": {
        "id": "8isZlWCWe0Q5"
      }
    },
    {
      "cell_type": "code",
      "source": [
        "def min_node(root):\n",
        "    while root is not None and root.left is not None:\n",
        "        root = root.left\n",
        "    return root"
      ],
      "metadata": {
        "id": "vCu7YhN8MuFB"
      },
      "execution_count": null,
      "outputs": []
    },
    {
      "cell_type": "markdown",
      "source": [
        "For a balanced tree, this algorithm has a time complexity of $O(log\\ n)$ and a space complexity of $O(1)$."
      ],
      "metadata": {
        "id": "bA9oJGogPPtg"
      }
    },
    {
      "cell_type": "code",
      "source": [
        "def remove(root, val):\n",
        "    if root is None: # Either empty tree or node not found.\n",
        "        return None\n",
        "\n",
        "    if val > root.val:\n",
        "        root.right = remove(root.right, val)\n",
        "    elif val < root.val:\n",
        "        root.left = remove(root.left, val)\n",
        "    else: # Node found.\n",
        "        if root.right is None:\n",
        "            return root.left\n",
        "        elif root.left is None:\n",
        "            return root.right\n",
        "        else:\n",
        "            min_node_right_subtree = min_node(root.right)\n",
        "            root.val = min_node_right_subtree.val\n",
        "            root.right = remove(root.right, min_node_right_subtree.val)\n",
        "    return root"
      ],
      "metadata": {
        "id": "__tnEqLDM7KK"
      },
      "execution_count": null,
      "outputs": []
    },
    {
      "cell_type": "markdown",
      "source": [
        "For a balanced tree, this algorithm has a time complexity of $O(3.log\\ n) = O(log\\ n)$. There are 3 parts:-\n",
        "\n",
        "1. $O(log\\ n)$ to search for the target node.\n",
        "2. If the target node has two children (the worst case): $O(log\\ n)$ to find the inorder successor of the target node.\n",
        "3. If the target node has two children (the worst case): $O(log\\ n)$ to remove the inorder successor (from the right sub-tree of the target node) after copying the value of the inorder successor into the target node.\n",
        "\n",
        "Similarly, for a balanced tree, it has a space complexity of $O(2.log\\ n + 1)$ = $O(log\\ n)$. There are 3 parts:-\n",
        "\n",
        "1. $O(log\\ n)$ to search for the target node.\n",
        "2. If the target node has two children (the worst case): $O(1)$ to find the inorder successor of the target node.\n",
        "3. If the target node has two children (the worst case): $O(log\\ n)$ to remove the inorder successor (from the right sub-tree of the target node) after copying the value of the inorder successor into the target node."
      ],
      "metadata": {
        "id": "CfFarZpYr77e"
      }
    },
    {
      "cell_type": "markdown",
      "source": [
        "### Insert into a Binary Search Tree"
      ],
      "metadata": {
        "id": "REHJTW2fqJQP"
      }
    },
    {
      "cell_type": "code",
      "source": [
        "def insertIntoBST(root, val):\n",
        "    if root is None:\n",
        "        return TreeNode(val)\n",
        "\n",
        "    if val > root.val:\n",
        "        root.right = insertIntoBST(root.right, val)\n",
        "    elif val < root.val:\n",
        "        root.left = insertIntoBST(root.left, val)\n",
        "    return root"
      ],
      "metadata": {
        "id": "H1fYn5Q1Q2yc"
      },
      "execution_count": null,
      "outputs": []
    },
    {
      "cell_type": "markdown",
      "source": [
        "For a balanced tree, this algorithm has a time complexity of $O(log\\ n)$ and a space complexity of $O(log\\ n)$."
      ],
      "metadata": {
        "id": "jI-EfnUWrX4M"
      }
    },
    {
      "cell_type": "markdown",
      "source": [
        "### Delete Node in a BST"
      ],
      "metadata": {
        "id": "wLjn6NJos8Fq"
      }
    },
    {
      "cell_type": "code",
      "source": [
        "def minNode(root):\n",
        "    while root is not None and root.left is not None:\n",
        "        root = root.left\n",
        "    return root"
      ],
      "metadata": {
        "id": "HdeU_r93RW1G"
      },
      "execution_count": null,
      "outputs": []
    },
    {
      "cell_type": "markdown",
      "source": [
        "For a balanced tree, this algorithm has a time complexity of $O(log\\ n)$ and a space complexity of $O(1)$."
      ],
      "metadata": {
        "id": "al0P4dpkRf9D"
      }
    },
    {
      "cell_type": "code",
      "source": [
        "def deleteNode(root, key):\n",
        "    if root is None:\n",
        "        return None\n",
        "\n",
        "    if key > root.val:\n",
        "        root.right = deleteNode(root.right, key)\n",
        "    elif key < root.val:\n",
        "        root.left = deleteNode(root.left, key)\n",
        "    else:\n",
        "        if root.right is None:\n",
        "            return root.left\n",
        "        elif root.left is None:\n",
        "            return root.right\n",
        "        else:\n",
        "            inorder_successor = minNode(root.right)\n",
        "            root.val = inorder_successor.val\n",
        "            root.right = deleteNode(root.right, inorder_successor.val)\n",
        "    return root"
      ],
      "metadata": {
        "id": "2CTsYOgZRmX2"
      },
      "execution_count": null,
      "outputs": []
    },
    {
      "cell_type": "markdown",
      "source": [
        "For a balanced tree, this algorithm has a time complexity of $O(log\\ n)$ and a space complexity of $O(log\\ n)$."
      ],
      "metadata": {
        "id": "mTyy3xeIxCxm"
      }
    },
    {
      "cell_type": "markdown",
      "source": [
        "## Depth-First Search"
      ],
      "metadata": {
        "id": "xUNMjwFsXMn5"
      }
    },
    {
      "cell_type": "markdown",
      "source": [
        "---\n",
        "\n",
        "Exploratory:"
      ],
      "metadata": {
        "id": "tVjykS6jypzi"
      }
    },
    {
      "cell_type": "code",
      "source": [
        "def my_func():\n",
        "    print(\"Hello!\")\n",
        "    return"
      ],
      "metadata": {
        "id": "02osZ3_n6A9M"
      },
      "execution_count": null,
      "outputs": []
    },
    {
      "cell_type": "markdown",
      "source": [
        "The Python interpreter is being told: \"*Get out of this function.*\" On this occasion, the function would have returned anyway after the `print(\"Hello!\")` line."
      ],
      "metadata": {
        "id": "G6lHOHTEaiHw"
      }
    },
    {
      "cell_type": "code",
      "source": [
        "x = my_func()\n",
        "x"
      ],
      "metadata": {
        "colab": {
          "base_uri": "https://localhost:8080/"
        },
        "id": "QJK_NlUk6NAO",
        "outputId": "272a4e8d-ec1d-45b0-ec54-0224e8bf8398"
      },
      "execution_count": null,
      "outputs": [
        {
          "output_type": "stream",
          "name": "stdout",
          "text": [
            "Hello!\n"
          ]
        }
      ]
    },
    {
      "cell_type": "code",
      "source": [
        "x is None"
      ],
      "metadata": {
        "colab": {
          "base_uri": "https://localhost:8080/"
        },
        "id": "GdcCMrWY6P_s",
        "outputId": "32ed97f0-c835-4157-d86c-7c2438e55d76"
      },
      "execution_count": null,
      "outputs": [
        {
          "output_type": "execute_result",
          "data": {
            "text/plain": [
              "True"
            ]
          },
          "metadata": {},
          "execution_count": 12
        }
      ]
    },
    {
      "cell_type": "code",
      "source": [
        "my_func()"
      ],
      "metadata": {
        "colab": {
          "base_uri": "https://localhost:8080/"
        },
        "id": "bHWhCOO66TkQ",
        "outputId": "74fdfefd-5bf8-420f-caaf-b4e73c9e3160"
      },
      "execution_count": null,
      "outputs": [
        {
          "output_type": "stream",
          "name": "stdout",
          "text": [
            "Hello!\n"
          ]
        }
      ]
    },
    {
      "cell_type": "code",
      "source": [
        "# Equivalent to:\n",
        "def my_func():\n",
        "    print(\"Hello!\")\n",
        "    return None\n",
        "\n",
        "my_func()"
      ],
      "metadata": {
        "colab": {
          "base_uri": "https://localhost:8080/"
        },
        "id": "kdUWb8xq6Vqj",
        "outputId": "e13d2ca2-6d3d-4b02-ff0a-0c18b909e662"
      },
      "execution_count": null,
      "outputs": [
        {
          "output_type": "stream",
          "name": "stdout",
          "text": [
            "Hello!\n"
          ]
        }
      ]
    },
    {
      "cell_type": "code",
      "source": [
        "# Also equivalent to:\n",
        "def my_func():\n",
        "    print(\"Hello!\")\n",
        "\n",
        "my_func()"
      ],
      "metadata": {
        "colab": {
          "base_uri": "https://localhost:8080/"
        },
        "id": "KtwPPHum6cyh",
        "outputId": "f3cc0574-46a2-42a3-8fe5-8a4738499c71"
      },
      "execution_count": null,
      "outputs": [
        {
          "output_type": "stream",
          "name": "stdout",
          "text": [
            "Hello!\n"
          ]
        }
      ]
    },
    {
      "cell_type": "markdown",
      "source": [
        "**Note:** In C, C++ and Java, such functions have a return type of `void`.\n",
        "\n",
        "---"
      ],
      "metadata": {
        "id": "jUa58Syt5jOt"
      }
    },
    {
      "cell_type": "code",
      "source": [
        "def inorder(root): # Process the left sub-tree, then the node and finally the right sub-tree.\n",
        "    if root is None:\n",
        "        return\n",
        "\n",
        "    inorder(root.left)\n",
        "    print(root.val)\n",
        "    inorder(root.right)"
      ],
      "metadata": {
        "id": "lFQlPKmW6q6W"
      },
      "execution_count": null,
      "outputs": []
    },
    {
      "cell_type": "markdown",
      "source": [
        "The time complexity of the algorithm is $O(n)$, because all $n$ nodes need to be traversed.\n",
        "\n",
        "The space complexity of the algorithm is $O(h)$ where $h$ is the height of the tree, which would be $O(log\\ n)$ for a balanced binary tree and $O(n)$ for a skewed tree. (The maximum number of items in the call stack - during the execution of the algorithm - is $h$. Even though we visit $n$ nodes, for a balanced tree, the number of elements in the call stack never exceeds $h$. If you're not convinced about this, take an example BST, and do a dry run while keeping track of the call stack - with pen and paper.)\n",
        "\n",
        "From Perplexity.ai:-\n",
        "\n",
        "> The space complexity of Depth-First Search (DFS) is $O(V)$, where $V$ represents the number of vertices in the graph. In a recursive implementation of DFS, the space complexity is determined by the maximum depth of the recursion. In the worst case, this can be equal to the total number of vertices in the graph. The algorithm only needs to store nodes along the current path (in the call stack). Unlike Breadth-First Search (BFS), DFS does not need to store all nodes at a given level. **The space requirement is proportional to the length of the longest path in the graph.** In an extreme case like a linear graph (similar to a linked list), the space complexity remains $O(V)$, where the algorithm might need to store references to every node in the stack. Key insight: DFS is generally more memory-efficient compared to BFS, especially in graphs with a large branching factor, as it only maintains the nodes on the current exploration path in memory."
      ],
      "metadata": {
        "id": "RICVPI7WLv3Q"
      }
    },
    {
      "cell_type": "markdown",
      "source": [
        "**Question:** Is depth-first search an example of one-branch recursion or two-branch recursion?\n",
        "\n",
        "**Answer from ChatGPT:**\n",
        "\n",
        "---\n",
        "\n",
        "Depth-First Search (DFS) can be implemented using both one-branch recursion and two-branch recursion, depending on the structure of the search.\n",
        "\n",
        "One-Branch Recursion: When DFS is applied to a graph (an adjacency list), the recursion follows one child at a time. Example: Recursive DFS for a graph typically visits one adjacent node at a time in a loop, making it effectively one-branch recursion.\n",
        "\n",
        "Two-Branch Recursion: When DFS is applied to a binary tree, each node has up to two children (left and right), leading to two recursive calls. Example: A standard DFS traversal for a binary tree is two-branch recursion.\n",
        "\n",
        "---\n",
        "\n",
        "So DFS in the context of (i) binary trees and (ii) recursion trees (of which decision trees are a special case) are examples of two-branch recursion. But DFS in the context of graphs is an example of one-branch recursion."
      ],
      "metadata": {
        "id": "DyeE_4vgonFy"
      }
    },
    {
      "cell_type": "code",
      "source": [
        "def preorder(root): # Process the node before processing its children.\n",
        "    if root is None:\n",
        "        return\n",
        "\n",
        "    print(root.val)\n",
        "    preorder(root.left)\n",
        "    preorder(root.right)"
      ],
      "metadata": {
        "id": "oHPiYrjL9fXL"
      },
      "execution_count": null,
      "outputs": []
    },
    {
      "cell_type": "code",
      "source": [
        "def postorder(root): # Process the node after processing its children.\n",
        "    if root is None:\n",
        "        return\n",
        "\n",
        "    postorder(root.left)\n",
        "    postorder(root.right)\n",
        "    print(root.val)"
      ],
      "metadata": {
        "id": "2msQlQTo9u0R"
      },
      "execution_count": null,
      "outputs": []
    },
    {
      "cell_type": "code",
      "source": [
        "def reverse_order(root): # Process the right sub-tree, then the node and finally the left sub-tree.\n",
        "    if root is None:\n",
        "        return\n",
        "\n",
        "    reverse_order(root.right)\n",
        "    print(root.val)\n",
        "    reverse_order(root.left)"
      ],
      "metadata": {
        "id": "oBSg0lbU99Vn"
      },
      "execution_count": null,
      "outputs": []
    },
    {
      "cell_type": "markdown",
      "source": [
        "ALL four of the above functions are examples of DFS.\n",
        "\n",
        "**Question:** Why is traversal called \"search\"?\n",
        "\n",
        "**Answer:** Because we can use traveral to search for a number that satisfies some criterion (e.g., the kth smallest number).\n",
        "\n",
        "**Note:** We have encountered two different flavors of tree search:-\n",
        "\n",
        "1. Search for a number (value) -> search in a BST -> $O(log\\ n)$ time complexity & $O(log\\ n)$ space complexity (for a balanced tree).\n",
        "2. Search for a number that satisfies some criterion -> e.g., DFS and BFS -> $O(n)$ time complexity and $O(log\\ n)$ space complexity (for a balanced tree)."
      ],
      "metadata": {
        "id": "4SROI3iL3qNV"
      }
    },
    {
      "cell_type": "markdown",
      "source": [
        "Sorting an array of numbers (in descending order) using a BST and reverse order traversal:-"
      ],
      "metadata": {
        "id": "WF4UyOT_S-rg"
      }
    },
    {
      "cell_type": "code",
      "source": [
        "arr = [9, 1, 8, 2, 7, 3, 6, 4, 5]\n",
        "\n",
        "class TreeNode:\n",
        "    def __init__(self, val):\n",
        "        self.val = val\n",
        "        self.left = None\n",
        "        self.right = None\n",
        "\n",
        "def insert_bst(root, val): # Time: O(log(n)); space: O(log(n)) for a balanced tree. Latter: O(log(n)) is the space taken by the call stack.\n",
        "    if root is None:\n",
        "        return TreeNode(val)\n",
        "\n",
        "    if val > root.val:\n",
        "        root.right = insert_bst(root.right, val)\n",
        "    elif val < root.val:\n",
        "        root.left = insert_bst(root.left, val)\n",
        "    return root\n",
        "\n",
        "root = None\n",
        "for val in arr: # Time: O(n*log(n)); space: O(n) for a balanced tree. Latter: because space needs to be allocated for `n` nodes.\n",
        "    root = insert_bst(root, val)\n",
        "\n",
        "def reverse_order(root): # Time: O(n); space: O(n + log(n)) = O(n) for a balanced tree. Latter: because O(n) is the space taken by `arr`, and O(log(n)) is the space taken by the call stack.\n",
        "    if root is None:\n",
        "        return []\n",
        "\n",
        "    arr = []\n",
        "    arr.extend(reverse_order(root.right))\n",
        "    arr.append(root.val)\n",
        "    arr.extend(reverse_order(root.left))\n",
        "    return arr\n",
        "\n",
        "sorted_arr = reverse_order(root)\n",
        "sorted_arr"
      ],
      "metadata": {
        "colab": {
          "base_uri": "https://localhost:8080/"
        },
        "id": "DvSfzsC_q9Dc",
        "outputId": "cc4e79f3-b42f-44b8-bc29-6ed8a790cb8c"
      },
      "execution_count": null,
      "outputs": [
        {
          "output_type": "execute_result",
          "data": {
            "text/plain": [
              "[9, 8, 7, 6, 5, 4, 3, 2, 1]"
            ]
          },
          "metadata": {},
          "execution_count": 20
        }
      ]
    },
    {
      "cell_type": "code",
      "source": [
        "# Alt:\n",
        "def sort_descending(root): # Time: O(n); space: O(n + log(n)) = O(n) for a balanced tree. Latter: because O(n) is the space taken by `arr`, and O(log(n)) is the space taken by the call stack.\n",
        "    arr = []\n",
        "\n",
        "    def reverse_order(root):\n",
        "        if root is None:\n",
        "            return\n",
        "\n",
        "        reverse_order(root.right)\n",
        "        arr.append(root.val)\n",
        "        reverse_order(root.left)\n",
        "\n",
        "    reverse_order(root)\n",
        "    return arr\n",
        "\n",
        "sorted_arr = sort_descending(root)\n",
        "sorted_arr"
      ],
      "metadata": {
        "colab": {
          "base_uri": "https://localhost:8080/"
        },
        "id": "vXcRMRQmBBr6",
        "outputId": "b804eafb-ea9c-4766-83b0-51a238ac12ce"
      },
      "execution_count": null,
      "outputs": [
        {
          "output_type": "execute_result",
          "data": {
            "text/plain": [
              "[9, 8, 7, 6, 5, 4, 3, 2, 1]"
            ]
          },
          "metadata": {},
          "execution_count": 21
        }
      ]
    },
    {
      "cell_type": "markdown",
      "source": [
        "Overall time complexity: $O(n.log\\ n + n) = O(n.log\\ n)$ for a balanced tree.\n",
        "\n",
        "This is as efficient as merge sort and quick sort. But it has a big drawback: BSTs (by definition) can't contain duplicates. So the above method won't work on an array that contains duplicates.\n",
        "\n",
        "Overall space complexity: $O(log\\ n + n + n) = O(n)$ for a balanced tree."
      ],
      "metadata": {
        "id": "s9NbY_9FiGl9"
      }
    },
    {
      "cell_type": "markdown",
      "source": [
        "**Note:** The reason we don't get an `UnboundLocalError` when modifying a list within a function (even if we don't declare it as `global` / `nonlocal`) is because lists are mutable objects in Python.\n",
        "\n",
        "<ins>Mutable vs. immutable:</ins>\n",
        "\n",
        "When we modify a list (e.g., append / remove / change an element), we're modifying the object itself, not creating a new one. This is different from immutable objects like integers and strings, where any modification creates a new object. (And if no other variable is pointing to the original immutable object, then the garbage collector collects it.)\n",
        "\n",
        "<ins>Scoping rules:</ins>\n",
        "\n",
        "Python's scoping rules state that if we assign a value to a variable within a function, it's considered a local variable unless explicitly declared as `global` / `nonlocal`. However, when we modify a mutable object like a list, we're not creating a new variable, so these rules don't apply in the same way."
      ],
      "metadata": {
        "id": "4YvLOAzEVeGi"
      }
    },
    {
      "cell_type": "code",
      "source": [
        "def modify_list():\n",
        "    my_list.append(4)\n",
        "\n",
        "my_list = [1, 2, 3]\n",
        "modify_list()\n",
        "my_list"
      ],
      "metadata": {
        "colab": {
          "base_uri": "https://localhost:8080/"
        },
        "id": "AYt5hcWUXBan",
        "outputId": "70c70688-a3dc-492a-baf2-2262a3500aa2"
      },
      "execution_count": null,
      "outputs": [
        {
          "output_type": "execute_result",
          "data": {
            "text/plain": [
              "[1, 2, 3, 4]"
            ]
          },
          "metadata": {},
          "execution_count": 22
        }
      ]
    },
    {
      "cell_type": "markdown",
      "source": [
        "In the above example, even though `my_list` is not declared as `global`, we can modify it within the function without an `UnboundLocalError`. This is because we're working with the same list object, not creating a new local variable.\n",
        "\n",
        "In fact, this is the same reason why the `train_epoch` and `validate_epoch` functions (that we write so often) are able to access and modify the PyTorch model, optimizer state, learning rate scheduler state, etc. without using the `global` keyword."
      ],
      "metadata": {
        "id": "_vdngjTBifJ4"
      }
    },
    {
      "cell_type": "markdown",
      "source": [
        "### Binary Tree Inorder Traversal"
      ],
      "metadata": {
        "id": "Sd1hO-lfB_YD"
      }
    },
    {
      "cell_type": "code",
      "source": [
        "def inorderTraversal(root):\n",
        "    if root is None:\n",
        "        return []\n",
        "\n",
        "    arr = []\n",
        "    arr.extend(inorderTraversal(root.left))\n",
        "    arr.append(root.val)\n",
        "    arr.extend(inorderTraversal(root.right))\n",
        "    return arr\n",
        "\n",
        "inorderTraversal(root)"
      ],
      "metadata": {
        "colab": {
          "base_uri": "https://localhost:8080/"
        },
        "id": "Ba9TnH--D44Z",
        "outputId": "434a268f-f4ee-4352-94fc-014294e3e981"
      },
      "execution_count": null,
      "outputs": [
        {
          "output_type": "execute_result",
          "data": {
            "text/plain": [
              "[1, 2, 3, 4, 5, 6, 7, 8, 9]"
            ]
          },
          "metadata": {},
          "execution_count": 23
        }
      ]
    },
    {
      "cell_type": "code",
      "source": [
        "# Alt:\n",
        "def inorderTraversal(root):\n",
        "    arr = []\n",
        "\n",
        "    def inorder(node):\n",
        "        if node is None:\n",
        "            return\n",
        "\n",
        "        inorder(node.left)\n",
        "        arr.append(node.val)\n",
        "        inorder(node.right)\n",
        "\n",
        "    inorder(root)\n",
        "    return arr\n",
        "\n",
        "inorderTraversal(root)"
      ],
      "metadata": {
        "colab": {
          "base_uri": "https://localhost:8080/"
        },
        "id": "y7XqZPP_Yaye",
        "outputId": "c41041a4-dd85-4ffd-e4cb-60e2d16aaeea"
      },
      "execution_count": null,
      "outputs": [
        {
          "output_type": "execute_result",
          "data": {
            "text/plain": [
              "[1, 2, 3, 4, 5, 6, 7, 8, 9]"
            ]
          },
          "metadata": {},
          "execution_count": 24
        }
      ]
    },
    {
      "cell_type": "markdown",
      "source": [
        "This algorithm has a time complexity of $O(n)$ and a space complexity of $O(n + h) = O(n)$ where $h = log\\ n$ for a balanced tree and $h = n$ for a skewed tree. ($n$ is the memory consumed by the `arr` array, and $h$ is the memory consumed by the call stack.)\n",
        "\n",
        "**Note:** To calculate space complexity, we must add the memory consumed by any arrays (or other variable-length data structures) to the memory consumed by the call stack."
      ],
      "metadata": {
        "id": "WeZC3Z08Eos0"
      }
    },
    {
      "cell_type": "markdown",
      "source": [
        "### Kth Smallest Element in a BST"
      ],
      "metadata": {
        "id": "7C6Rwx_oDoTq"
      }
    },
    {
      "cell_type": "code",
      "source": [
        "# Inorder traversal based solution:\n",
        "def kthSmallest(root, k):\n",
        "    arr = []\n",
        "\n",
        "    def inorder(node):\n",
        "        if node is None:\n",
        "            return\n",
        "\n",
        "        inorder(node.left)\n",
        "        arr.append(node.val)\n",
        "        inorder(node.right)\n",
        "\n",
        "    inorder(root)\n",
        "    return arr[k - 1]\n",
        "\n",
        "kthSmallest(root, 5)"
      ],
      "metadata": {
        "colab": {
          "base_uri": "https://localhost:8080/"
        },
        "id": "B7emSeZvoPIj",
        "outputId": "e24f8907-5124-4609-9bf4-edbd462782e3"
      },
      "execution_count": null,
      "outputs": [
        {
          "output_type": "execute_result",
          "data": {
            "text/plain": [
              "5"
            ]
          },
          "metadata": {},
          "execution_count": 25
        }
      ]
    },
    {
      "cell_type": "markdown",
      "source": [
        "This algorithm has a time complexity of $O(n)$ and a space complexity of $O(n + h) = O(n)$ where $h = log\\ n$ for a balanced tree and $h = n$ for a skewed tree. ($n$ is the memory consumed by the `arr` array, and $h$ is the memory consumed by the call stack.)"
      ],
      "metadata": {
        "id": "23wc9BToIPmM"
      }
    },
    {
      "cell_type": "code",
      "source": [
        "# DFS based solution:\n",
        "def kthSmallest(root, k):\n",
        "    cnt = 0\n",
        "    kth = None\n",
        "\n",
        "    def dfs(node):\n",
        "        nonlocal cnt, kth\n",
        "\n",
        "        if node is None:\n",
        "            return\n",
        "\n",
        "        dfs(node.left)\n",
        "        cnt += 1\n",
        "        if cnt == k:\n",
        "            kth = node.val\n",
        "            return\n",
        "        dfs(node.right)\n",
        "\n",
        "    dfs(root)\n",
        "    return kth\n",
        "\n",
        "kthSmallest(root, 5)"
      ],
      "metadata": {
        "colab": {
          "base_uri": "https://localhost:8080/"
        },
        "id": "rQxgJtx3o-Zk",
        "outputId": "79e9bb97-d1e3-442d-aeea-3616de1117be"
      },
      "execution_count": null,
      "outputs": [
        {
          "output_type": "execute_result",
          "data": {
            "text/plain": [
              "5"
            ]
          },
          "metadata": {},
          "execution_count": 26
        }
      ]
    },
    {
      "cell_type": "markdown",
      "source": [
        "This algorithm has a time complexity of $O(n)$ and a space complexity of $O(h)$ where $h = log\\ n$ for a balanced tree and $h = n$ for a skewed tree. (**Note:** The DFS based solution has a smaller space complexity than the inorder traversal based solution.)\n",
        "\n",
        "**Exercise:** Do a FULL dry run (by drawing the call stack) with `k=2` on the following BST: `[4, 3, 5, 2, None, None, None]`. You will notice that the traversal still continues after the algorithm backtracks from the `3` node to the `4` (root) node."
      ],
      "metadata": {
        "id": "djKZL9rXK4Yc"
      }
    },
    {
      "cell_type": "markdown",
      "source": [
        "### Construct Binary Tree from Preorder and Inorder Traversal"
      ],
      "metadata": {
        "id": "s2g3a6SCJoa5"
      }
    },
    {
      "cell_type": "code",
      "source": [
        "# Exploratory:\n",
        "my_list = ['a', 'b', 'c', 'b']\n",
        "my_list.index('b')"
      ],
      "metadata": {
        "colab": {
          "base_uri": "https://localhost:8080/"
        },
        "id": "KLNTQigCrsLH",
        "outputId": "8fe37659-9886-49dc-d5dc-85abae08463a"
      },
      "execution_count": null,
      "outputs": [
        {
          "output_type": "execute_result",
          "data": {
            "text/plain": [
              "1"
            ]
          },
          "metadata": {},
          "execution_count": 27
        }
      ]
    },
    {
      "cell_type": "markdown",
      "source": [
        "**Note:** The `index` method returns the position at which the argument occurs for the first time."
      ],
      "metadata": {
        "id": "_DIT_OHgl-a0"
      }
    },
    {
      "cell_type": "code",
      "source": [
        "def buildTree(preorder, inorder):\n",
        "    if len(preorder) == 0: # Equivalent to: `if len(inorder) == 0:`\n",
        "        return None\n",
        "\n",
        "    root_val = preorder[0]\n",
        "    root = TreeNode(root_val)\n",
        "    root_idx = inorder.index(root_val)\n",
        "    left_subtree_vals = inorder[:root_idx]\n",
        "    right_subtree_vals = inorder[root_idx + 1:]\n",
        "    preorder = preorder[1:]\n",
        "    root.left = buildTree(preorder[:len(left_subtree_vals)], left_subtree_vals)\n",
        "    root.right = buildTree(preorder[len(left_subtree_vals):], right_subtree_vals)\n",
        "    return root"
      ],
      "metadata": {
        "id": "cjtoNExy5_4f"
      },
      "execution_count": null,
      "outputs": []
    },
    {
      "cell_type": "markdown",
      "source": [
        "The time complexity of this algorithm is $O(n^2)$, because the `inorder.index(root_val)` method call costs $O(n)$, and we're calling it $n$ times (once for creating each node).\n",
        "\n",
        "The space complexity of this algorithm is $O(n.h)$, because we're passing subarrays of `preorder` and `inorder` (which cost $O(n)$) in each recursive function call, and there are a maximum of $h$ recursive function calls in the call stack, where $h = log\\ n$ for a balanced tree and $h = n$ for a skewed tree."
      ],
      "metadata": {
        "id": "CmdDFzi7CB6c"
      }
    },
    {
      "cell_type": "code",
      "source": [
        "# Test:\n",
        "root = buildTree([1, 2, 3, 4], [2, 1, 3, 4])\n",
        "root"
      ],
      "metadata": {
        "colab": {
          "base_uri": "https://localhost:8080/"
        },
        "id": "hv4TW0b3-ZrG",
        "outputId": "03ec48fb-ac78-4cf3-e88f-1067d7a94538"
      },
      "execution_count": null,
      "outputs": [
        {
          "output_type": "execute_result",
          "data": {
            "text/plain": [
              "<__main__.TreeNode at 0x7e52a67237d0>"
            ]
          },
          "metadata": {},
          "execution_count": 29
        }
      ]
    },
    {
      "cell_type": "code",
      "source": [
        "preorder(root)"
      ],
      "metadata": {
        "colab": {
          "base_uri": "https://localhost:8080/"
        },
        "id": "U3gUKewz-nzW",
        "outputId": "05b85974-d1b1-449b-8799-03e07f6d3adb"
      },
      "execution_count": null,
      "outputs": [
        {
          "output_type": "stream",
          "name": "stdout",
          "text": [
            "1\n",
            "2\n",
            "3\n",
            "4\n"
          ]
        }
      ]
    },
    {
      "cell_type": "code",
      "source": [
        "inorder(root)"
      ],
      "metadata": {
        "colab": {
          "base_uri": "https://localhost:8080/"
        },
        "id": "eZIRlLCA-iiW",
        "outputId": "cb4aede7-c9a3-477e-8b68-4f285f5ff4d2"
      },
      "execution_count": null,
      "outputs": [
        {
          "output_type": "stream",
          "name": "stdout",
          "text": [
            "2\n",
            "1\n",
            "3\n",
            "4\n"
          ]
        }
      ]
    },
    {
      "cell_type": "markdown",
      "source": [
        "## Breadth-First Search"
      ],
      "metadata": {
        "id": "yMl_AuVHXO0W"
      }
    },
    {
      "cell_type": "code",
      "source": [
        "from collections import deque\n",
        "\n",
        "def bfs(root):\n",
        "    queue = deque()\n",
        "\n",
        "    if root is not None:\n",
        "        queue.append(root)\n",
        "\n",
        "    level = 0\n",
        "    while len(queue) > 0:\n",
        "        print(\"Level:\", level)\n",
        "        for i in range(len(queue)):\n",
        "            curr = queue.popleft()\n",
        "            print(curr.val)\n",
        "            if curr.left is not None:\n",
        "                queue.append(curr.left)\n",
        "            if curr.right is not None:\n",
        "                queue.append(curr.right)\n",
        "        print(\"---\")\n",
        "        level += 1"
      ],
      "metadata": {
        "id": "ri3W8MAP2XUf"
      },
      "execution_count": null,
      "outputs": []
    },
    {
      "cell_type": "markdown",
      "source": [
        "The time complexity of BFS is $O(n)$ where $n$ is the number of nodes in the tree. This is because we visit every node exactly once.\n",
        "\n",
        "The space complexity of BFS is $O(n)$ where $n$ is the number of nodes in the tree. This is because we will store an entire level of the tree in the queue at a time. In the worst case, the last level may be roughly half the size of the tree, so the space complexity is $O(n)$."
      ],
      "metadata": {
        "id": "FS-3CIbAbZY7"
      }
    },
    {
      "cell_type": "markdown",
      "source": [
        "**Exercise:** Do a dry run of level-order traveral (BFS) for the binary tree `[4, 3, 6, 2, None, 5, 7]` (by drawing the queue and writing out the output).\n",
        "\n",
        "Let's test out our `bfs` function. We can use our earlier `buildTree` function to create the above tree."
      ],
      "metadata": {
        "id": "O_J55fE4Yrk1"
      }
    },
    {
      "cell_type": "code",
      "source": [
        "# Test:\n",
        "root = buildTree(preorder=[4, 3, 2, 6, 5, 7], inorder=[2, 3, 4, 5, 6, 7])\n",
        "bfs(root)"
      ],
      "metadata": {
        "colab": {
          "base_uri": "https://localhost:8080/"
        },
        "id": "1S9Qn27l4EbS",
        "outputId": "385d9326-7888-4ca8-ba7b-696d1873b921"
      },
      "execution_count": null,
      "outputs": [
        {
          "output_type": "stream",
          "name": "stdout",
          "text": [
            "Level: 0\n",
            "4\n",
            "---\n",
            "Level: 1\n",
            "3\n",
            "6\n",
            "---\n",
            "Level: 2\n",
            "2\n",
            "5\n",
            "7\n",
            "---\n"
          ]
        }
      ]
    },
    {
      "cell_type": "markdown",
      "source": [
        "**Note:** The list representation of a binary tree (e.g., `[4, 3, 6, 2, None, 5, 7]`) can be thought of as its level-order traversal that includes `None` values."
      ],
      "metadata": {
        "id": "9Kj4Sssx5B-F"
      }
    },
    {
      "cell_type": "markdown",
      "source": [
        "### Binary Tree Level Order Traversal"
      ],
      "metadata": {
        "id": "yVL4cF4Czwgv"
      }
    },
    {
      "cell_type": "code",
      "source": [
        "from collections import deque\n",
        "\n",
        "def levelOrder(root):\n",
        "    output_arr = []\n",
        "    queue = deque()\n",
        "\n",
        "    if root is not None:\n",
        "        queue.append(root)\n",
        "\n",
        "    while len(queue) > 0:\n",
        "        level_arr = []\n",
        "        for i in range(len(queue)):\n",
        "            curr = queue.popleft()\n",
        "            level_arr.append(curr.val)\n",
        "            if curr.left is not None:\n",
        "                queue.append(curr.left)\n",
        "            if curr.right is not None:\n",
        "                queue.append(curr.right)\n",
        "        output_arr.append(level_arr)\n",
        "\n",
        "    return output_arr"
      ],
      "metadata": {
        "id": "_SSqt1JKzyJq"
      },
      "execution_count": null,
      "outputs": []
    },
    {
      "cell_type": "markdown",
      "source": [
        "This algorithm has a time complexity of $O(n)$ and a space complexity of $O(n)$."
      ],
      "metadata": {
        "id": "T8eKhJTM1a7u"
      }
    },
    {
      "cell_type": "code",
      "source": [
        "# Test:\n",
        "levelOrder(root)"
      ],
      "metadata": {
        "colab": {
          "base_uri": "https://localhost:8080/"
        },
        "id": "peUTCgCq1jK3",
        "outputId": "8461e9ab-4ef1-4564-e073-e945c90c1444"
      },
      "execution_count": null,
      "outputs": [
        {
          "output_type": "execute_result",
          "data": {
            "text/plain": [
              "[[4], [3, 6], [2, 5, 7]]"
            ]
          },
          "metadata": {},
          "execution_count": 35
        }
      ]
    },
    {
      "cell_type": "markdown",
      "source": [
        "### Binary Tree Right Side View"
      ],
      "metadata": {
        "id": "dgBoELGH1zOZ"
      }
    },
    {
      "cell_type": "code",
      "source": [
        "from collections import deque\n",
        "\n",
        "def rightSideView(root):\n",
        "    output_arr = []\n",
        "    queue = deque()\n",
        "\n",
        "    if root is not None:\n",
        "        queue.append(root)\n",
        "\n",
        "    while len(queue) > 0:\n",
        "        level_arr = []\n",
        "        for i in range(len(queue)):\n",
        "            curr = queue.popleft()\n",
        "            level_arr.append(curr.val)\n",
        "            if curr.left is not None:\n",
        "                queue.append(curr.left)\n",
        "            if curr.right is not None:\n",
        "                queue.append(curr.right)\n",
        "        output_arr.append(level_arr[-1])\n",
        "\n",
        "    return output_arr"
      ],
      "metadata": {
        "id": "p53HZ4IU10vX"
      },
      "execution_count": null,
      "outputs": []
    },
    {
      "cell_type": "markdown",
      "source": [
        "This algorithm has a time complexity of $O(n)$ and a space complexity of $O(n)$."
      ],
      "metadata": {
        "id": "v3Br09zh65BJ"
      }
    },
    {
      "cell_type": "code",
      "source": [
        "# Test:\n",
        "rightSideView(root)"
      ],
      "metadata": {
        "colab": {
          "base_uri": "https://localhost:8080/"
        },
        "id": "Pzu_KNkE6xoc",
        "outputId": "a9edca1d-d08d-4338-9065-8e5d35c722c1"
      },
      "execution_count": null,
      "outputs": [
        {
          "output_type": "execute_result",
          "data": {
            "text/plain": [
              "[4, 6, 7]"
            ]
          },
          "metadata": {},
          "execution_count": 41
        }
      ]
    },
    {
      "cell_type": "markdown",
      "source": [
        "## BST Sets and Maps"
      ],
      "metadata": {
        "id": "ahyKoJiCXTNo"
      }
    },
    {
      "cell_type": "markdown",
      "source": [
        "A set is a collection of unique elements (no duplicates allowed). It can be implemented using a BST (since BSTs also don't contain duplicates). Such a set is known as a tree set / sorted set. (Each node of a tree set only contains a key.)\n",
        "\n",
        "The main advantage of tree sets (vis-a-vis dynamic arrays) is that we can search for an element, insert an element and delete an element in $O(log\\ n)$ time.\n",
        "\n",
        "A map is a set of key-value pairs, where the keys are unique (no duplicates allowed). It can be implemented using a BST. Such a map is known as a tree map / sorted map / sorted dict. (Each node of a tree map contains a key and one or more values.)\n",
        "\n",
        "Tree maps have some tradeoffs (vis-a-vis hash maps). We shall examine these tradeoffs in the **Hashing** chapter.\n",
        "\n",
        "Python implementation of tree map:-"
      ],
      "metadata": {
        "id": "Cv_Y0pT3C4N9"
      }
    },
    {
      "cell_type": "code",
      "source": [
        "!pip install -q sortedcontainers"
      ],
      "metadata": {
        "id": "t-drGeRUa1nU"
      },
      "execution_count": null,
      "outputs": []
    },
    {
      "cell_type": "code",
      "source": [
        "from sortedcontainers import SortedDict\n",
        "\n",
        "tree_map = SortedDict({'c': 3, 'a': 1, 'b': 2})\n",
        "tree_map"
      ],
      "metadata": {
        "colab": {
          "base_uri": "https://localhost:8080/"
        },
        "id": "ClojOJMAa6e3",
        "outputId": "035f0dda-6841-4f56-c07c-d5574cba941f"
      },
      "execution_count": null,
      "outputs": [
        {
          "output_type": "execute_result",
          "data": {
            "text/plain": [
              "SortedDict({'a': 1, 'b': 2, 'c': 3})"
            ]
          },
          "metadata": {},
          "execution_count": 2
        }
      ]
    },
    {
      "cell_type": "markdown",
      "source": [
        "### Design Binary Search Tree"
      ],
      "metadata": {
        "id": "DLd2RV-d7Noy"
      }
    },
    {
      "cell_type": "code",
      "source": [
        "class TreeNode:\n",
        "    def __init__(self, key, val):\n",
        "        self.key = key\n",
        "        self.val = val\n",
        "        self.left = None\n",
        "        self.right = None\n",
        "\n",
        "class TreeMap:\n",
        "    def __init__(self):\n",
        "        self.root = None\n",
        "\n",
        "    def insert(self, key, val):\n",
        "        def add(node):\n",
        "            if node is None:\n",
        "                return TreeNode(key, val)\n",
        "\n",
        "            if key > node.key:\n",
        "                node.right = add(node.right)\n",
        "            elif key < node.key:\n",
        "                node.left = add(node.left)\n",
        "            else:\n",
        "                node.val = val\n",
        "            return node\n",
        "\n",
        "        self.root = add(self.root)\n",
        "\n",
        "    def get(self, key):\n",
        "        def search(node):\n",
        "            if node is None:\n",
        "                return -1\n",
        "\n",
        "            if key > node.key:\n",
        "                return search(node.right)\n",
        "            elif key < node.key:\n",
        "                return search(node.left)\n",
        "            else:\n",
        "                return node.val\n",
        "\n",
        "        return search(self.root)\n",
        "\n",
        "    def getMin(self):\n",
        "        if self.root is None:\n",
        "            return -1\n",
        "        else:\n",
        "            curr = self.root\n",
        "            while curr is not None and curr.left is not None:\n",
        "                curr = curr.left\n",
        "            return curr.val\n",
        "\n",
        "    def getMax(self):\n",
        "        if self.root is None:\n",
        "            return -1\n",
        "        else:\n",
        "            curr = self.root\n",
        "            while curr is not None and curr.right is not None:\n",
        "                curr = curr.right\n",
        "            return curr.val\n",
        "\n",
        "    def remove(self, key):\n",
        "        def getMinNode(node):\n",
        "            while node is not None and node.left is not None:\n",
        "                node = node.left\n",
        "            return node\n",
        "\n",
        "        def delete(node, key_):\n",
        "            if node is None:\n",
        "                return None\n",
        "\n",
        "            if key_ > node.key:\n",
        "                node.right = delete(node.right, key_)\n",
        "            elif key_ < node.key:\n",
        "                node.left = delete(node.left, key_)\n",
        "            else:\n",
        "                if node.right is None:\n",
        "                    return node.left\n",
        "                elif node.left is None:\n",
        "                    return node.right\n",
        "                else:\n",
        "                    inorder_successor = getMinNode(node.right)\n",
        "                    node.key = inorder_successor.key\n",
        "                    node.val = inorder_successor.val\n",
        "                    node.right = delete(node.right, inorder_successor.key)\n",
        "            return node\n",
        "\n",
        "        self.root = delete(self.root, key)\n",
        "\n",
        "    def getInorderKeys(self):\n",
        "        output_arr = []\n",
        "\n",
        "        def inorder(node):\n",
        "            if node is None:\n",
        "                return\n",
        "\n",
        "            inorder(node.left)\n",
        "            output_arr.append(node.key)\n",
        "            inorder(node.right)\n",
        "\n",
        "        inorder(self.root)\n",
        "        return output_arr"
      ],
      "metadata": {
        "id": "KtAj08t77OsK"
      },
      "execution_count": null,
      "outputs": []
    }
  ]
}